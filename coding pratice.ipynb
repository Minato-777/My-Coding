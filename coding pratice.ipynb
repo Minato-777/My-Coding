{
 "cells": [
  {
   "cell_type": "code",
   "execution_count": 12,
   "id": "0843644b",
   "metadata": {},
   "outputs": [
    {
     "name": "stdout",
     "output_type": "stream",
     "text": [
      "Enter your number :4\n",
      "0\n",
      "0\n",
      "0\n",
      "0\n"
     ]
    }
   ],
   "source": [
    "number=int(input(\"Enter your number :\"))\n",
    "for i in range(0,number):\n",
    "    i=0\n",
    "    print(i)"
   ]
  },
  {
   "cell_type": "code",
   "execution_count": 11,
   "id": "44dbdd4a",
   "metadata": {},
   "outputs": [
    {
     "name": "stdout",
     "output_type": "stream",
     "text": [
      "Enter your number :2\n",
      "0\n",
      "0\n"
     ]
    }
   ],
   "source": [
    "number=int(input(\"Enter your number :\"))\n",
    "for i in range(0,number):\n",
    "    i=0\n",
    "    print(i)"
   ]
  },
  {
   "cell_type": "code",
   "execution_count": 16,
   "id": "f196061c",
   "metadata": {},
   "outputs": [
    {
     "name": "stdout",
     "output_type": "stream",
     "text": [
      "4\n",
      "0\n",
      "0\n",
      "0\n",
      "0\n"
     ]
    }
   ],
   "source": [
    "num=int(input())\n",
    "counter=0\n",
    "while counter<num :\n",
    "    print(0)\n",
    "    counter=counter+1"
   ]
  },
  {
   "cell_type": "code",
   "execution_count": 20,
   "id": "12a248a7",
   "metadata": {},
   "outputs": [
    {
     "name": "stdout",
     "output_type": "stream",
     "text": [
      "Enter your number :5\n",
      "1\n",
      "2\n",
      "3\n",
      "4\n",
      "5\n"
     ]
    }
   ],
   "source": [
    "n=int(input(\"Enter your number :\"))\n",
    "for i in range(1,n+1):\n",
    "    print(i)"
   ]
  },
  {
   "cell_type": "code",
   "execution_count": 24,
   "id": "c2f1f5b9",
   "metadata": {},
   "outputs": [
    {
     "name": "stdout",
     "output_type": "stream",
     "text": [
      "input :5\n",
      "1\n",
      "2\n",
      "3\n",
      "4\n",
      "5\n"
     ]
    }
   ],
   "source": [
    "# another type\n",
    "s=int(input(\"input :\"))\n",
    "count=1\n",
    "while count <= s:\n",
    "    print(count)\n",
    "    count=count+1\n"
   ]
  },
  {
   "cell_type": "code",
   "execution_count": 27,
   "id": "5186a494",
   "metadata": {},
   "outputs": [
    {
     "name": "stdout",
     "output_type": "stream",
     "text": [
      "Enter your Input :2\n",
      "-2\n",
      "-1\n",
      "0\n",
      "1\n",
      "2\n"
     ]
    }
   ],
   "source": [
    "j=int(input(\"Enter your Input :\"))\n",
    "for i in range(-2,j+1):\n",
    "    print(i)"
   ]
  },
  {
   "cell_type": "code",
   "execution_count": 29,
   "id": "138bf74c",
   "metadata": {},
   "outputs": [
    {
     "name": "stdout",
     "output_type": "stream",
     "text": [
      "Enter your first number :-2\n",
      "Enter your second number :2\n",
      "-2\n",
      "-1\n",
      "0\n",
      "1\n",
      "2\n"
     ]
    }
   ],
   "source": [
    "# another method\n",
    "m=int(input(\"Enter your first number :\"))\n",
    "n=int(input(\"Enter your second number :\"))\n",
    "c=m\n",
    "while c <= n:\n",
    "    print(c)\n",
    "    c=c+1\n",
    "    "
   ]
  },
  {
   "cell_type": "code",
   "execution_count": 47,
   "id": "ada62c39",
   "metadata": {},
   "outputs": [
    {
     "name": "stdout",
     "output_type": "stream",
     "text": [
      "Enter your number :4\n",
      "2.5\n"
     ]
    }
   ],
   "source": [
    "v=int(input(\"Enter your number :\"))\n",
    "sum_of_number=0\n",
    "count=0\n",
    "while count<v:\n",
    "      count=count+1\n",
    "      sum_of_number=sum_of_number+count\n",
    "average=sum_of_number/v\n",
    "print(average)\n",
    "    "
   ]
  },
  {
   "cell_type": "code",
   "execution_count": 48,
   "id": "550e6098",
   "metadata": {},
   "outputs": [
    {
     "name": "stdout",
     "output_type": "stream",
     "text": [
      "Enter your number :7\n",
      "4.0\n"
     ]
    }
   ],
   "source": [
    "v=int(input(\"Enter your number :\"))\n",
    "sum_of_number=0\n",
    "count=0\n",
    "while count<v:\n",
    "      count=count+1\n",
    "      sum_of_number=sum_of_number+count\n",
    "average=sum_of_number/v\n",
    "print(average)\n",
    "    "
   ]
  },
  {
   "cell_type": "code",
   "execution_count": 4,
   "id": "3173193f",
   "metadata": {},
   "outputs": [
    {
     "name": "stdout",
     "output_type": "stream",
     "text": [
      "Enter your input4\n",
      "cube of numbers :\n",
      "1\n",
      "8\n",
      "27\n",
      "64\n"
     ]
    }
   ],
   "source": [
    "z=int(input(\"Enter your input\"))\n",
    "count=0\n",
    "print(\"cube of numbers :\")\n",
    "while count<z:\n",
    "    count=count+1\n",
    "    print(count**3)\n",
    "    "
   ]
  },
  {
   "cell_type": "code",
   "execution_count": 1,
   "id": "467e994d",
   "metadata": {},
   "outputs": [
    {
     "name": "stdout",
     "output_type": "stream",
     "text": [
      "Enter your row :4\n",
      "Enter your column :5\n",
      "* * * * * \n",
      "* * * * * \n",
      "* * * * * \n",
      "* * * * * \n"
     ]
    }
   ],
   "source": [
    "a=int(input(\"Enter your row :\"))\n",
    "b=int(input(\"Enter your column :\"))\n",
    "count=1\n",
    "while count<=a:\n",
    "    print(\"* \" *b)\n",
    "    count=count+1\n",
    "    \n"
   ]
  },
  {
   "cell_type": "code",
   "execution_count": 27,
   "id": "560d5762",
   "metadata": {},
   "outputs": [
    {
     "name": "stdout",
     "output_type": "stream",
     "text": [
      "Enter your number :2\n",
      "3\n",
      "4\n",
      "5\n",
      "6\n",
      "7\n",
      "8\n",
      "9\n",
      "10\n",
      "11\n",
      "12\n"
     ]
    }
   ],
   "source": [
    "p=int(input(\"Enter your number :\"))\n",
    "count=p\n",
    "for i in range(p,p+10):\n",
    "    count=count+1\n",
    "    print(count)\n",
    "    "
   ]
  },
  {
   "cell_type": "code",
   "execution_count": 33,
   "id": "449dfe10",
   "metadata": {},
   "outputs": [
    {
     "name": "stdout",
     "output_type": "stream",
     "text": [
      " * * \n",
      " * * \n",
      " * *\n"
     ]
    }
   ],
   "source": [
    "print(\" * *\",\"\\n\",\"* *\",\"\\n\",\"* *\")"
   ]
  },
  {
   "cell_type": "code",
   "execution_count": 34,
   "id": "64edb17b",
   "metadata": {},
   "outputs": [
    {
     "name": "stdout",
     "output_type": "stream",
     "text": [
      "* * \n",
      "* * \n",
      "* * \n"
     ]
    }
   ],
   "source": [
    "s=2*\"* \"\n",
    "print(s)\n",
    "print(s)\n",
    "print(s)"
   ]
  },
  {
   "cell_type": "code",
   "execution_count": 35,
   "id": "fbcef9a4",
   "metadata": {},
   "outputs": [
    {
     "name": "stdout",
     "output_type": "stream",
     "text": [
      "* * * \n",
      "* * * \n",
      "* * * \n"
     ]
    }
   ],
   "source": [
    "v=3*\"* \"\n",
    "print(v)\n",
    "print(v)\n",
    "print(v)"
   ]
  },
  {
   "cell_type": "code",
   "execution_count": 36,
   "id": "8b6c8323",
   "metadata": {},
   "outputs": [
    {
     "name": "stdout",
     "output_type": "stream",
     "text": [
      "Minato\n",
      "****** Minato ******\n"
     ]
    }
   ],
   "source": [
    "x=input()\n",
    "y=len(x)\n",
    "print(\"*\"*y,x,y*\"*\")\n"
   ]
  },
  {
   "cell_type": "code",
   "execution_count": 37,
   "id": "026bb9f5",
   "metadata": {},
   "outputs": [
    {
     "name": "stdout",
     "output_type": "stream",
     "text": [
      "iron man\n",
      "iron\n",
      "4\n"
     ]
    }
   ],
   "source": [
    "w=input()\n",
    "w1=input()\n",
    "x=len(w1)\n",
    "print(x)"
   ]
  },
  {
   "cell_type": "code",
   "execution_count": 39,
   "id": "b12f6311",
   "metadata": {},
   "outputs": [
    {
     "name": "stdout",
     "output_type": "stream",
     "text": [
      "input :Cat\n",
      "input :Rat\n",
      "Rat\n",
      "###\n",
      "Cat\n"
     ]
    }
   ],
   "source": [
    "a=input(\"input :\")\n",
    "b=input(\"input :\")\n",
    "print(b)\n",
    "print(\"#\"*3)\n",
    "print(a)"
   ]
  },
  {
   "cell_type": "code",
   "execution_count": 40,
   "id": "1856e01e",
   "metadata": {},
   "outputs": [
    {
     "name": "stdout",
     "output_type": "stream",
     "text": [
      "Minato\n",
      "M\n",
      "o\n"
     ]
    }
   ],
   "source": [
    "v=input()\n",
    "a=v[0]\n",
    "b=v[-1]\n",
    "print(a)\n",
    "print(b)"
   ]
  },
  {
   "cell_type": "code",
   "execution_count": 43,
   "id": "f28d3d16",
   "metadata": {},
   "outputs": [
    {
     "name": "stdout",
     "output_type": "stream",
     "text": [
      "Very\n",
      "Important\n",
      "Person\n",
      "VIP\n"
     ]
    }
   ],
   "source": [
    "a=input()\n",
    "b=input()\n",
    "c=input()\n",
    "print(a[0]+b[0]+c[0])"
   ]
  },
  {
   "cell_type": "code",
   "execution_count": 42,
   "id": "3de647c6",
   "metadata": {},
   "outputs": [
    {
     "name": "stdout",
     "output_type": "stream",
     "text": [
      "Very \n",
      "Important\n",
      "Person\n",
      "VIP\n"
     ]
    }
   ],
   "source": [
    "a=input()\n",
    "b=input()\n",
    "c=input()\n",
    "x=a[0]\n",
    "y=b[0]\n",
    "z=c[0]\n",
    "print(x+y+z)"
   ]
  },
  {
   "cell_type": "code",
   "execution_count": 52,
   "id": "57aa7479",
   "metadata": {},
   "outputs": [
    {
     "name": "stdout",
     "output_type": "stream",
     "text": [
      "Muhsi22004\n",
      "M********4\n"
     ]
    }
   ],
   "source": [
    "c=input()\n",
    "x=c[0]\n",
    "y=c[-1]\n",
    "l=len(c)\n",
    "f=l-2\n",
    "j=f*\"*\"\n",
    "print(x+j+y)"
   ]
  },
  {
   "cell_type": "code",
   "execution_count": 54,
   "id": "e6942785",
   "metadata": {},
   "outputs": [
    {
     "name": "stdout",
     "output_type": "stream",
     "text": [
      "Muhsi@2004\n",
      "M********4\n"
     ]
    }
   ],
   "source": [
    "d=input()\n",
    "z=len(d)\n",
    "print(d[0]+(\"*\"*(z-2))+d[-1])"
   ]
  },
  {
   "cell_type": "code",
   "execution_count": 56,
   "id": "4aa22f6f",
   "metadata": {},
   "outputs": [
    {
     "name": "stdout",
     "output_type": "stream",
     "text": [
      "4\n",
      "+ + + + \n",
      "+ + + + \n",
      "+ + + + \n",
      "+ + + + \n"
     ]
    }
   ],
   "source": [
    "i=int(input())\n",
    "print(\"+ \"*i)\n",
    "print(\"+ \"*i)\n",
    "print(\"+ \"*i)\n",
    "print(\"+ \"*i)"
   ]
  },
  {
   "cell_type": "code",
   "execution_count": 57,
   "id": "4e5d48c7",
   "metadata": {},
   "outputs": [
    {
     "name": "stdout",
     "output_type": "stream",
     "text": [
      "2\n",
      "4\n",
      "6\n",
      "-2\n",
      "8\n"
     ]
    }
   ],
   "source": [
    "a=int(input())\n",
    "b=int(input())\n",
    "print(a+b)\n",
    "print(a-b)\n",
    "print(a*b)"
   ]
  },
  {
   "cell_type": "code",
   "execution_count": 60,
   "id": "7251e3c7",
   "metadata": {},
   "outputs": [
    {
     "name": "stdout",
     "output_type": "stream",
     "text": [
      "50\n",
      "35.0\n"
     ]
    }
   ],
   "source": [
    "n=int(input())\n",
    "x_percentage=30\n",
    "y_percentage=100-x_percentage\n",
    "y=(y_percentage/100)*n\n",
    "print(y)"
   ]
  },
  {
   "cell_type": "code",
   "execution_count": 62,
   "id": "418510f3",
   "metadata": {},
   "outputs": [
    {
     "name": "stdout",
     "output_type": "stream",
     "text": [
      "3\n",
      "Areaofsquare 6\n",
      "Perimeterofsquare 12\n"
     ]
    }
   ],
   "source": [
    "side=int(input())\n",
    "A=side*2\n",
    "P=side*4\n",
    "print(\"Areaofsquare\",A)\n",
    "print(\"Perimeterofsquare\",P)"
   ]
  },
  {
   "cell_type": "code",
   "execution_count": 84,
   "id": "abfc2d75",
   "metadata": {},
   "outputs": [
    {
     "name": "stdout",
     "output_type": "stream",
     "text": [
      "subway\n",
      "sub\n",
      "***way\n"
     ]
    }
   ],
   "source": [
    "w=input()\n",
    "w1=input()\n",
    "w1len=len(w1)\n",
    "first=\"*\"*w1len\n",
    "second=w[w1len:]\n",
    "print(first+second)\n",
    "\n"
   ]
  },
  {
   "cell_type": "code",
   "execution_count": 3,
   "id": "73435c62",
   "metadata": {},
   "outputs": [
    {
     "name": "stdout",
     "output_type": "stream",
     "text": [
      "##software##\n",
      "software\n"
     ]
    }
   ],
   "source": [
    "z=input()\n",
    "p=z[2:-2]\n",
    "print(p)"
   ]
  },
  {
   "cell_type": "code",
   "execution_count": 24,
   "id": "145de684",
   "metadata": {},
   "outputs": [
    {
     "name": "stdout",
     "output_type": "stream",
     "text": [
      "prime\n",
      "3\n",
      "z\n",
      "('p', 'r', 'i', 'z', 'e')\n"
     ]
    }
   ],
   "source": [
    "i=list(input())\n",
    "y=int(input())\n",
    "z=input()\n",
    "i[y]=\"z\"\n",
    "v=tuple(i)\n",
    "print(v)"
   ]
  },
  {
   "cell_type": "code",
   "execution_count": 27,
   "id": "b0f3962d",
   "metadata": {},
   "outputs": [
    {
     "name": "stdout",
     "output_type": "stream",
     "text": [
      "football\n",
      "ball\n"
     ]
    }
   ],
   "source": [
    "l=input()\n",
    "v=len(l)\n",
    "v=l[4:]\n",
    "print(v)\n"
   ]
  },
  {
   "cell_type": "code",
   "execution_count": 31,
   "id": "de5f6cd4",
   "metadata": {},
   "outputs": [
    {
     "name": "stdout",
     "output_type": "stream",
     "text": [
      "timer\n",
      "mer\n"
     ]
    }
   ],
   "source": [
    "a=input()\n",
    "leng=len(a)\n",
    "start=int(leng/2)\n",
    "end=a[start:]\n",
    "print(end)"
   ]
  },
  {
   "cell_type": "code",
   "execution_count": 2,
   "id": "b4de1646",
   "metadata": {},
   "outputs": [
    {
     "name": "stdout",
     "output_type": "stream",
     "text": [
      "25\n",
      "True\n"
     ]
    }
   ],
   "source": [
    "x=int(input())\n",
    "if x>=25:\n",
    "    print(\"True\")\n",
    "else:\n",
    "    print(\"False\")"
   ]
  },
  {
   "cell_type": "code",
   "execution_count": 3,
   "id": "e1b62890",
   "metadata": {},
   "outputs": [
    {
     "name": "stdout",
     "output_type": "stream",
     "text": [
      "29\n",
      "True\n",
      "False\n"
     ]
    }
   ],
   "source": [
    "n=int(input())\n",
    "print(n>25)\n",
    "y=str(n)\n",
    "f=y[0]\n",
    "l=y[1]\n",
    "print(f>l)"
   ]
  },
  {
   "cell_type": "code",
   "execution_count": 8,
   "id": "6bf8b939",
   "metadata": {},
   "outputs": [
    {
     "name": "stdout",
     "output_type": "stream",
     "text": [
      "145\n",
      "978\n",
      "True\n"
     ]
    }
   ],
   "source": [
    "q=int(input())\n",
    "e=int(input())\n",
    "m=str(q)\n",
    "n=str(e)\n",
    "x=m[0]\n",
    "y=n[-1]\n",
    "print(x<y)"
   ]
  },
  {
   "cell_type": "code",
   "execution_count": 9,
   "id": "b05b1d2d",
   "metadata": {},
   "outputs": [
    {
     "name": "stdout",
     "output_type": "stream",
     "text": [
      "675\n",
      "129\n",
      "True\n"
     ]
    }
   ],
   "source": [
    "s=input()\n",
    "c=input()\n",
    "first=s[0]\n",
    "last=c[-1]\n",
    "print(first<last)"
   ]
  },
  {
   "cell_type": "code",
   "execution_count": 10,
   "id": "cac72f79",
   "metadata": {},
   "outputs": [
    {
     "name": "stdout",
     "output_type": "stream",
     "text": [
      "40\n",
      "400\n",
      "The percentage of 40 in 400 is  160.0\n"
     ]
    }
   ],
   "source": [
    "# if the given p=40 and number n=400 the 40 of percentage 400\n",
    "a=int(input())\n",
    "b=int(input())\n",
    "value=(a/100)*b\n",
    "print(\"The percentage of 40 in 400 is \",value)\n"
   ]
  },
  {
   "cell_type": "code",
   "execution_count": 11,
   "id": "955a6454",
   "metadata": {},
   "outputs": [
    {
     "name": "stdout",
     "output_type": "stream",
     "text": [
      "2\n",
      "3\n",
      "True\n"
     ]
    }
   ],
   "source": [
    "l=int(input())\n",
    "b=int(input())\n",
    "Area_of_Rectangle=l*b\n",
    "perimeter_of_Rectangle=2*(l+b)\n",
    "print(Area_of_Rectangle<=perimeter_of_Rectangle)"
   ]
  },
  {
   "cell_type": "code",
   "execution_count": 12,
   "id": "19f59c1e",
   "metadata": {},
   "outputs": [
    {
     "name": "stdout",
     "output_type": "stream",
     "text": [
      "4\n",
      "4\n",
      "True\n"
     ]
    }
   ],
   "source": [
    "l=int(input())\n",
    "b=int(input())\n",
    "Area_of_Rectangle=l*b\n",
    "perimeter_of_Rectangle=2*(l+b)\n",
    "print(Area_of_Rectangle<=perimeter_of_Rectangle)"
   ]
  },
  {
   "cell_type": "code",
   "execution_count": 20,
   "id": "dec7667e",
   "metadata": {},
   "outputs": [
    {
     "name": "stdout",
     "output_type": "stream",
     "text": [
      "5\n",
      "3\n",
      "A<=B is False\n",
      "B<=A is True\n"
     ]
    }
   ],
   "source": [
    "A=int(input())\n",
    "B=int(input())\n",
    "if A<=B:\n",
    "    print(\"A<=B is True\")\n",
    "else:\n",
    "    print(\"A<=B is False\")\n",
    "    \n",
    "if B<=A:\n",
    "    print(\"B<=A is True\")\n",
    "else:\n",
    "    print(\"B<=A is False\")"
   ]
  },
  {
   "cell_type": "code",
   "execution_count": 2,
   "id": "b6db884a",
   "metadata": {},
   "outputs": [
    {
     "name": "stdout",
     "output_type": "stream",
     "text": [
      "tornto\n",
      "2\n",
      "True\n"
     ]
    }
   ],
   "source": [
    "m=input()\n",
    "n=int(input())\n",
    "first=m[:n]\n",
    "last=m[-n:]\n",
    "print(first==last)"
   ]
  },
  {
   "cell_type": "code",
   "execution_count": 4,
   "id": "906f84a8",
   "metadata": {},
   "outputs": [
    {
     "name": "stdout",
     "output_type": "stream",
     "text": [
      "600\n",
      "500\n",
      "True\n"
     ]
    }
   ],
   "source": [
    "s=int(input())\n",
    "b=int(input())\n",
    "if s>b :\n",
    "    print(\"True\")"
   ]
  },
  {
   "cell_type": "code",
   "execution_count": 17,
   "id": "42b9ee45",
   "metadata": {},
   "outputs": [
    {
     "name": "stdout",
     "output_type": "stream",
     "text": [
      "rainbow\n",
      "rain\n",
      "True\n"
     ]
    }
   ],
   "source": [
    "s1=input()\n",
    "s2=input()\n",
    "s2_l=len(s2)\n",
    "fi_sl=s1[:s2_l]\n",
    "print(fi_sl==s2)"
   ]
  },
  {
   "cell_type": "code",
   "execution_count": 20,
   "id": "061f8b42",
   "metadata": {},
   "outputs": [
    {
     "name": "stdout",
     "output_type": "stream",
     "text": [
      "whatsapp\n",
      "what\n",
      "True\n"
     ]
    }
   ],
   "source": [
    "y=input()\n",
    "z=input()\n",
    "leng=len(z)\n",
    "f=y[:leng]\n",
    "print(f==z)"
   ]
  },
  {
   "cell_type": "code",
   "execution_count": 25,
   "id": "1a4d26c9",
   "metadata": {},
   "outputs": [
    {
     "name": "stdout",
     "output_type": "stream",
     "text": [
      "555\n",
      "True\n"
     ]
    }
   ],
   "source": [
    "num=(input())\n",
    "x=(num[0])\n",
    "y=(num[1])\n",
    "z=(num[2])\n",
    "print(x==y==z)"
   ]
  },
  {
   "cell_type": "code",
   "execution_count": 27,
   "id": "224b8df9",
   "metadata": {},
   "outputs": [
    {
     "name": "stdout",
     "output_type": "stream",
     "text": [
      "5\n",
      "3\n",
      "false\n"
     ]
    }
   ],
   "source": [
    "a=int(input())\n",
    "b=int(input())\n",
    "if (a +b <0) or (a*b<0):\n",
    "    print(\"True\")\n",
    "else:\n",
    "    print(\"false\")"
   ]
  },
  {
   "cell_type": "code",
   "execution_count": 30,
   "id": "5350ac0a",
   "metadata": {},
   "outputs": [
    {
     "name": "stdout",
     "output_type": "stream",
     "text": [
      "3\n",
      "5\n",
      "7\n",
      "True\n"
     ]
    }
   ],
   "source": [
    "a=int(input())\n",
    "b=int(input())\n",
    "c=int(input())\n",
    "if (a+b>c) and (b+c>a) and (a+c>b):\n",
    "    print(\"True\")\n",
    "else:\n",
    "    print(\"False\")"
   ]
  },
  {
   "cell_type": "code",
   "execution_count": 31,
   "id": "14797e2f",
   "metadata": {},
   "outputs": [
    {
     "name": "stdout",
     "output_type": "stream",
     "text": [
      "55\n",
      "True\n"
     ]
    }
   ],
   "source": [
    "n=int(input())\n",
    "if(50<n<100) or (str(n[0]==5)):\n",
    "    print(\"True\")\n",
    "else:\n",
    "    print(\"False\")"
   ]
  },
  {
   "cell_type": "code",
   "execution_count": 34,
   "id": "3a53a01c",
   "metadata": {},
   "outputs": [
    {
     "name": "stdout",
     "output_type": "stream",
     "text": [
      "35\n",
      "35\n",
      "35\n",
      "False\n"
     ]
    }
   ],
   "source": [
    "m=int(input())\n",
    "p=int(input())\n",
    "c=int(input())\n",
    "if (m+p>=90) or (p+c>=90) or (c+m>=90):\n",
    "    print(\"True\")\n",
    "else:\n",
    "    print(\"False\")"
   ]
  },
  {
   "cell_type": "code",
   "execution_count": 6,
   "id": "b3232e7d",
   "metadata": {},
   "outputs": [
    {
     "name": "stdout",
     "output_type": "stream",
     "text": [
      "1\n",
      "They are honor student\n"
     ]
    }
   ],
   "source": [
    "# Rank\n",
    "r=int(input())\n",
    "if (r<10):\n",
    "    print(\"They are honor student\")\n",
    "else:\n",
    "    print(\"They are normal student\")"
   ]
  },
  {
   "cell_type": "code",
   "execution_count": 10,
   "id": "cc53c1f3",
   "metadata": {},
   "outputs": [
    {
     "name": "stdout",
     "output_type": "stream",
     "text": [
      "3\n",
      "5\n",
      "8\n"
     ]
    }
   ],
   "source": [
    "a=int(input())\n",
    "b=int(input())\n",
    "if (a+b<10):\n",
    "    print(a+b)\n",
    "else:\n",
    "    print(\"Negative number\")"
   ]
  },
  {
   "cell_type": "code",
   "execution_count": 11,
   "id": "ebf9d6b8",
   "metadata": {},
   "outputs": [
    {
     "name": "stdout",
     "output_type": "stream",
     "text": [
      "Dis#123\n",
      "65#oid\n",
      "Discount\n"
     ]
    }
   ],
   "source": [
    "a=input()\n",
    "b=input()\n",
    "if (a[:3]==\"Dis\") or(b[:3]==\"Dis\"):\n",
    "    print(\"Discount\")\n",
    "else:\n",
    "    print(\"No Discount\")"
   ]
  },
  {
   "cell_type": "code",
   "execution_count": 22,
   "id": "fb5fdf8d",
   "metadata": {},
   "outputs": [
    {
     "name": "stdout",
     "output_type": "stream",
     "text": [
      "40\n",
      "50\n",
      "Qualified\n"
     ]
    }
   ],
   "source": [
    "Maths=int(input())\n",
    "Physics=int(input())\n",
    "if ((Maths>35))and ((Physics >35)) or (Maths + Physics>=100 ):\n",
    "    print(\"Qualified\")\n",
    "else:\n",
    "    print(\"Not Qualified\")"
   ]
  },
  {
   "cell_type": "code",
   "execution_count": 48,
   "id": "a6e44baa",
   "metadata": {},
   "outputs": [
    {
     "name": "stdout",
     "output_type": "stream",
     "text": [
      "789\n",
      "Not valid number\n"
     ]
    }
   ],
   "source": [
    "n=input()\n",
    "x=int(n[0])\n",
    "y=int(n[1])\n",
    "z=int(n[2])\n",
    "b=int(n)\n",
    "if (x==5 or y==5 or z==5) or (b>=300 and b<=700):\n",
    "    print(\"Valid number\")\n",
    "else:\n",
    "    print(\"Not valid number\")"
   ]
  },
  {
   "cell_type": "code",
   "execution_count": 9,
   "id": "5270c9cf",
   "metadata": {},
   "outputs": [
    {
     "name": "stdout",
     "output_type": "stream",
     "text": [
      "13\n",
      "4\n",
      "5\n",
      "True\n"
     ]
    }
   ],
   "source": [
    "a=int(input())\n",
    "b=int(input())\n",
    "c=int(input())\n",
    "if (9<a<21) or (9<b<21) or (9<c<21): \n",
    "    print(\"True\")\n",
    "else:\n",
    "    print(\"False\")"
   ]
  },
  {
   "cell_type": "code",
   "execution_count": 23,
   "id": "8e6ad5d8",
   "metadata": {},
   "outputs": [
    {
     "name": "stdout",
     "output_type": "stream",
     "text": [
      "9\n",
      "6\n",
      "9\n",
      "smallest value is  6\n"
     ]
    }
   ],
   "source": [
    "x=int(input())\n",
    "y=int(input())\n",
    "z=int(input())\n",
    "if (x<y):\n",
    "    print(\"smallest value is \",x)\n",
    "elif (y<z):\n",
    "    print(\"smallest value is \",y)\n",
    "elif (z<x):\n",
    "    print(\"smallest value is \",z)\n",
    "    \n"
   ]
  },
  {
   "cell_type": "code",
   "execution_count": 25,
   "id": "2900092b",
   "metadata": {},
   "outputs": [
    {
     "name": "stdout",
     "output_type": "stream",
     "text": [
      "5\n",
      "Positive number\n"
     ]
    }
   ],
   "source": [
    "n=float(input())\n",
    "if (n<0):\n",
    "    print(n,\" is Negative number\")\n",
    "else:\n",
    "    print(\"Positive number\")"
   ]
  },
  {
   "cell_type": "code",
   "execution_count": 29,
   "id": "42a0b573",
   "metadata": {},
   "outputs": [
    {
     "name": "stdout",
     "output_type": "stream",
     "text": [
      "2\n",
      "4\n"
     ]
    }
   ],
   "source": [
    "n=int(input())\n",
    "if (n%3==0):\n",
    "    print(n*3)\n",
    "else:\n",
    "    print(n*2)"
   ]
  },
  {
   "cell_type": "code",
   "execution_count": 39,
   "id": "5b6693ae",
   "metadata": {},
   "outputs": [
    {
     "name": "stdout",
     "output_type": "stream",
     "text": [
      "3\n",
      "7\n",
      "1 smallest\n"
     ]
    }
   ],
   "source": [
    "a=int(input())\n",
    "b=int(input())\n",
    "x=(a%b)\n",
    "y=(b%a)\n",
    "if x<y :\n",
    "    print(x,\"smallest \")\n",
    "else:\n",
    "    print(y,\"smallest\")\n",
    "\n",
    "    "
   ]
  },
  {
   "cell_type": "code",
   "execution_count": 41,
   "id": "bff8c388",
   "metadata": {},
   "outputs": [
    {
     "name": "stdout",
     "output_type": "stream",
     "text": [
      "3\n",
      "7\n",
      "3\n",
      "1\n"
     ]
    }
   ],
   "source": [
    "a=int(input())\n",
    "b=int(input())\n",
    "x=(a%b)\n",
    "print(x)\n",
    "y=(b%a)\n",
    "print(y)"
   ]
  },
  {
   "cell_type": "code",
   "execution_count": 7,
   "id": "4390e88e",
   "metadata": {},
   "outputs": [
    {
     "name": "stdout",
     "output_type": "stream",
     "text": [
      "5633\n",
      "True\n"
     ]
    }
   ],
   "source": [
    "n=int(input())\n",
    "if (n%2!=0) and (n%3!=0) and (n%5!=0) and (n%7!=0):\n",
    "    print(\"True\")\n",
    "else:\n",
    "    print(\"False\")"
   ]
  },
  {
   "cell_type": "code",
   "execution_count": 8,
   "id": "c50efdc4",
   "metadata": {},
   "outputs": [
    {
     "name": "stdout",
     "output_type": "stream",
     "text": [
      "24\n",
      "3\n",
      "5\n"
     ]
    }
   ],
   "source": [
    "x=int(input())\n",
    "if ((x%5==0) and (x%7==0)) or (x<7):\n",
    "    print(x)\n",
    "else:\n",
    "    print(n%5)\n",
    "    print(n%7)"
   ]
  },
  {
   "cell_type": "code",
   "execution_count": 3,
   "id": "331e027b",
   "metadata": {},
   "outputs": [
    {
     "name": "stdout",
     "output_type": "stream",
     "text": [
      "3\n",
      "4\n",
      "5.0 is hyponthesis traingle\n"
     ]
    }
   ],
   "source": [
    "a=int(input())\n",
    "b=int(input())\n",
    "x=((a**2+b**2)**0.5)  \n",
    "print(x,\"is hyponthesis traingle\")\n",
    "    "
   ]
  },
  {
   "cell_type": "code",
   "execution_count": 5,
   "id": "f62ccf89",
   "metadata": {},
   "outputs": [
    {
     "name": "stdout",
     "output_type": "stream",
     "text": [
      "24\n",
      "5\n",
      "False\n"
     ]
    }
   ],
   "source": [
    "a=int(input())\n",
    "b=int(input())\n",
    "if ((a)**0.5==(b)):\n",
    "    print(\"True\")\n",
    "else:\n",
    "    print(\"False\")"
   ]
  },
  {
   "cell_type": "code",
   "execution_count": 9,
   "id": "ad883663",
   "metadata": {},
   "outputs": [
    {
     "name": "stdout",
     "output_type": "stream",
     "text": [
      "1634\n",
      "ArmStrong number\n"
     ]
    }
   ],
   "source": [
    "n=input()\n",
    "x=int(n[0])\n",
    "y=int(n[1])\n",
    "z=int(n[2])\n",
    "c=int(n[3])\n",
    "an=((x**4)+(y**4)+(z**4)+(c**4))\n",
    "if an== int(n):\n",
    "    print(\"ArmStrong number\")\n",
    "else:\n",
    "    print(\"is Not Armstrong number\")"
   ]
  },
  {
   "cell_type": "code",
   "execution_count": 10,
   "id": "c6162334",
   "metadata": {},
   "outputs": [
    {
     "name": "stdout",
     "output_type": "stream",
     "text": [
      "1253\n",
      "is Not Armstrong number\n"
     ]
    }
   ],
   "source": [
    "n=input()\n",
    "x=int(n[0])\n",
    "y=int(n[1])\n",
    "z=int(n[2])\n",
    "c=int(n[3])\n",
    "an=((x**4)+(y**4)+(z**4)+(c**4))\n",
    "if an== int(n):\n",
    "    print(\"ArmStrong number\")\n",
    "else:\n",
    "    print(\"is Not Armstrong number\")"
   ]
  },
  {
   "cell_type": "code",
   "execution_count": 36,
   "id": "9990d214",
   "metadata": {},
   "outputs": [
    {
     "name": "stdout",
     "output_type": "stream",
     "text": [
      "1329\n",
      "189.85714285714286 Weeks\n",
      "3 Year\n",
      "11 Months\n"
     ]
    }
   ],
   "source": [
    "n=int(input())\n",
    "x=(n/7)\n",
    "y=(n/365)\n",
    "a=(182.5/30) \n",
    "b=(182.5/31)\n",
    "c=a+b\n",
    "if x:\n",
    "    print(x,\"Weeks\")\n",
    "\n",
    "    if y :\n",
    "        print(int(y),\"Year\")\n",
    "\n",
    "\n",
    "        if int(c):\n",
    "            print(int(c),\"Months\")\n",
    "\n",
    "    "
   ]
  },
  {
   "cell_type": "code",
   "execution_count": 16,
   "id": "8c251077",
   "metadata": {},
   "outputs": [
    {
     "name": "stdout",
     "output_type": "stream",
     "text": [
      "6.066666666666666\n"
     ]
    }
   ],
   "source": [
    "r=(182/30)\n",
    "print(r)"
   ]
  },
  {
   "cell_type": "code",
   "execution_count": 17,
   "id": "34b3e90e",
   "metadata": {},
   "outputs": [
    {
     "name": "stdout",
     "output_type": "stream",
     "text": [
      "5.870967741935484\n"
     ]
    }
   ],
   "source": [
    "r=(182/31)\n",
    "print(r)"
   ]
  },
  {
   "cell_type": "code",
   "execution_count": 29,
   "id": "aa88c5e4",
   "metadata": {},
   "outputs": [
    {
     "name": "stdout",
     "output_type": "stream",
     "text": [
      "365\n",
      "52.142857142857146 Weeks\n"
     ]
    }
   ],
   "source": [
    "n=int(input())\n",
    "\n",
    "if x==(n/7):\n",
    "    print(x,\"Weeks\")"
   ]
  },
  {
   "cell_type": "code",
   "execution_count": 2,
   "id": "c92ddca3",
   "metadata": {},
   "outputs": [
    {
     "name": "stdout",
     "output_type": "stream",
     "text": [
      "1329\n",
      "3\n",
      "33\n",
      "3\n"
     ]
    }
   ],
   "source": [
    "n=int(input())\n",
    "y=int(n/365)\n",
    "w=int((n-(y*365))/7)\n",
    "d=int(n-(y*365)-(w*7))\n",
    "print(y)\n",
    "print(w)\n",
    "print(d)"
   ]
  },
  {
   "cell_type": "code",
   "execution_count": 26,
   "id": "1d150430",
   "metadata": {},
   "outputs": [
    {
     "name": "stdout",
     "output_type": "stream",
     "text": [
      "2\n",
      "wednesday\n"
     ]
    }
   ],
   "source": [
    "D=int(input())\n",
    "w=(\"monday\",\"tuesday\",\"wednesday\",\"thursday\",\"friday\",\"saturday\")\n",
    "print(w[D])"
   ]
  },
  {
   "cell_type": "code",
   "execution_count": 3,
   "id": "a9b56ecd",
   "metadata": {},
   "outputs": [
    {
     "name": "stdout",
     "output_type": "stream",
     "text": [
      "55\n",
      "55\n",
      "A is equal to B\n"
     ]
    }
   ],
   "source": [
    "a=int(input())\n",
    "b=int(input())\n",
    "\n",
    "if a==b:\n",
    "    print(\"A is equal to B\")\n",
    "elif a>b:\n",
    "    print(\"A is greater than B\")\n",
    "else:\n",
    "    print(\"B is greater than A\")"
   ]
  },
  {
   "cell_type": "code",
   "execution_count": 7,
   "id": "0df67927",
   "metadata": {},
   "outputs": [
    {
     "name": "stdout",
     "output_type": "stream",
     "text": [
      "12\n",
      "12\n",
      "you havr no profit no loss\n"
     ]
    }
   ],
   "source": [
    "cost_price=int(input())\n",
    "selling_price=int(input())\n",
    "\n",
    "profit=selling_price-cost_price\n",
    "loss=selling_price-cost_price\n",
    "npnl=cost_price-selling_price\n",
    "if profit>0:\n",
    "        print(\"You have profit\")\n",
    "elif loss<0:\n",
    "    print(\"You have loss\")\n",
    "else:\n",
    "    print(\"you havr no profit no loss\")"
   ]
  },
  {
   "cell_type": "code",
   "execution_count": 27,
   "id": "b0cc22ba",
   "metadata": {},
   "outputs": [
    {
     "name": "stdout",
     "output_type": "stream",
     "text": [
      "2004\n",
      "is leap year\n"
     ]
    }
   ],
   "source": [
    "i=int(input())\n",
    "if (i%4==0):\n",
    "    if (i%100==0):\n",
    "        if (i%400==0):\n",
    "            print(i,\"is leap year\")\n",
    "        else:\n",
    "            print(\"is not leap year\")\n",
    "    else:\n",
    "        print(\"is leap year\")\n",
    "else:\n",
    "    print(\"is not leap year\")"
   ]
  },
  {
   "cell_type": "code",
   "execution_count": 25,
   "id": "fe615ced",
   "metadata": {},
   "outputs": [
    {
     "name": "stdout",
     "output_type": "stream",
     "text": [
      "2004\n",
      "1700 is not leap year\n"
     ]
    }
   ],
   "source": [
    "y=int(input())\n",
    "if (i%4==0) and (i%100!=0) and (i%400==0):\n",
    "    print(i,\"is leap  year\")\n",
    "else:\n",
    "    print(i,\"is not leap year\")\n",
    "    "
   ]
  },
  {
   "cell_type": "code",
   "execution_count": 45,
   "id": "bf1335cf",
   "metadata": {},
   "outputs": [
    {
     "name": "stdout",
     "output_type": "stream",
     "text": [
      "15\n",
      "Very cold temp\n"
     ]
    }
   ],
   "source": [
    "t=float(input())\n",
    "if (t<0):\n",
    "    prinit(\"Frezzing temp\")\n",
    "elif (10<=t<20):\n",
    "    print(\"Very cold temp\")\n",
    "elif (20<=t<30):\n",
    "    print(\"normal temp\")\n",
    "elif (30<=t<40):\n",
    "    print(\"hot temp\")\n",
    "elif(40<=t>50):\n",
    "    print(\"Very hot temp \")\n",
    "    "
   ]
  },
  {
   "cell_type": "code",
   "execution_count": 22,
   "id": "6513673d",
   "metadata": {},
   "outputs": [
    {
     "name": "stdout",
     "output_type": "stream",
     "text": [
      "6\n",
      "summer\n"
     ]
    }
   ],
   "source": [
    "m=int(input())\n",
    "s=(\"january\",\"february\",\"march\",\"april\",\"may\",\"june\",\"july\",\"auguest\",\"september\",\"october\",\"november\",\"december\")\n",
    "if (m==11 or m==12 or m==1):\n",
    "    print(\"winter\")\n",
    "elif (m==2 or m==3):\n",
    "    print(\"Spring\")\n",
    "elif (m==4 or m==5 or m==6):\n",
    "    print(\"summer\")\n",
    "elif (m==7 or m==8 ):\n",
    "    print(\"Rainy\")\n",
    "elif (m==9 or m==10 ):\n",
    "    print(\"autum\")"
   ]
  },
  {
   "cell_type": "code",
   "execution_count": 23,
   "id": "2d9a7986",
   "metadata": {},
   "outputs": [
    {
     "name": "stdout",
     "output_type": "stream",
     "text": [
      "7\n",
      "21\n"
     ]
    }
   ],
   "source": [
    "n=int(input())\n",
    "h=(n*(n-1))//2\n",
    "print(h)"
   ]
  },
  {
   "cell_type": "code",
   "execution_count": 36,
   "id": "4051dce9",
   "metadata": {},
   "outputs": [
    {
     "name": "stdout",
     "output_type": "stream",
     "text": [
      "370\n",
      "notes 100 : 3\n",
      "notes 50 : 1\n",
      "notes 20 : 1\n",
      "notes 10 : 0\n"
     ]
    }
   ],
   "source": [
    "m=int(input())\n",
    "x=m//100\n",
    "y=m%100\n",
    "\n",
    "z=y//50\n",
    "v=y%50\n",
    "\n",
    "a=v//20\n",
    "b=v%20\n",
    "\n",
    "j=b//10\n",
    "k=b%10\n",
    "\n",
    "print(\"notes 100 :\",x)\n",
    "print(\"notes 50 :\",z)\n",
    "print(\"notes 20 :\",a)\n",
    "print(\"notes 10 :\",j)"
   ]
  },
  {
   "cell_type": "code",
   "execution_count": 8,
   "id": "f92df7ba",
   "metadata": {},
   "outputs": [
    {
     "name": "stdout",
     "output_type": "stream",
     "text": [
      "2257\n",
      "2000 :1\n",
      "500  :0\n",
      "200  :1\n",
      "50   :1\n",
      "5    :1\n",
      "2    :1\n",
      "1    :0\n"
     ]
    }
   ],
   "source": [
    "x=int(input())\n",
    "\n",
    "a=x//2000\n",
    "b=x%2000\n",
    "\n",
    "c=b//500\n",
    "d=b%500\n",
    "\n",
    "e=d//200\n",
    "f=d%200\n",
    "\n",
    "g=f//50\n",
    "h=f%50\n",
    "\n",
    "i=h//5\n",
    "j=h%5\n",
    "\n",
    "k=j//2\n",
    "l=j%2\n",
    "\n",
    "m=l//2\n",
    "n=l%2\n",
    "\n",
    "o=\"2000 :\"+str(a)\n",
    "p=\"500  :\"+str(c)\n",
    "q=\"200  :\"+str(e)\n",
    "r=\"50   :\"+str(g)\n",
    "s=\"5    :\"+str(i)\n",
    "t=\"2    :\"+str(k)\n",
    "u=\"1    :\"+str(m)\n",
    "\n",
    "print(o)\n",
    "print(p)\n",
    "print(q)\n",
    "print(r)\n",
    "print(s)\n",
    "print(t)\n",
    "print(u)"
   ]
  },
  {
   "cell_type": "code",
   "execution_count": 4,
   "id": "3ffa39c1",
   "metadata": {},
   "outputs": [
    {
     "name": "stdout",
     "output_type": "stream",
     "text": [
      "Monday\n",
      "16\n",
      "Tuesday\n"
     ]
    }
   ],
   "source": [
    "d=input()\n",
    "n=int(input())\n",
    "\n",
    "if d==\"Monday\":\n",
    "    d=1\n",
    "elif d==\"Tuesday\":\n",
    "    d=2\n",
    "elif d==\"WEdnesday\":\n",
    "    d=3\n",
    "elif d==\"Thursday\":\n",
    "    d=4\n",
    "elif d==\"Friday\":\n",
    "    d=5\n",
    "elif d==\"Saturday\":\n",
    "    d=6\n",
    "elif d==\"sunday\":\n",
    "    d=7\n",
    "    \n",
    "dayin=(d+n-1)%7\n",
    "\n",
    "if dayin==1:\n",
    "    print(\"Monday\")\n",
    "elif dayin==2:\n",
    "    print(\"Tuesday\")\n",
    "elif dayin==3:\n",
    "    print(\"wednesday\")\n",
    "elif dayin==4:\n",
    "    print(\"Thursday\")\n",
    "elif dayin==5:\n",
    "    print(\"friday\")\n",
    "elif dayin==6:\n",
    "    print(\"saturday\")\n",
    "elif dayin==7:\n",
    "    print(\"sunday\")"
   ]
  },
  {
   "cell_type": "code",
   "execution_count": 8,
   "id": "041d039c",
   "metadata": {},
   "outputs": [
    {
     "name": "stdout",
     "output_type": "stream",
     "text": [
      "6\n",
      "Week End\n"
     ]
    }
   ],
   "source": [
    "d=int(input())\n",
    "days=(\"monday\",\"Tuesday\",\"wednesday\",\"thursday\",\"friday\",\"saturday\",\"sunday\")\n",
    "if d==1 or d==2:\n",
    "    print(\"Week Start\")\n",
    "elif d==3 or d==4:\n",
    "    print(\"Midweek\")\n",
    "elif d==5 or d==6:\n",
    "    print(\"Week End\")"
   ]
  },
  {
   "cell_type": "code",
   "execution_count": 2,
   "id": "657629e9",
   "metadata": {},
   "outputs": [
    {
     "name": "stdout",
     "output_type": "stream",
     "text": [
      "120\n",
      "1070\n"
     ]
    }
   ],
   "source": [
    "d=int(input())\n",
    "if d<=50:\n",
    "    print((d*3)+100)\n",
    "elif d<=100:\n",
    "    print((50*3)+100) + ((d*5)+100)\n",
    "elif d<=200:\n",
    "    print(((50*3)+100) + ((100*5)+100) + (((d-100)*6) + 100))\n",
    "else:\n",
    "    print((50*3) + (50*5) + (100*6) + ((d - 200)*10)+100)\n",
    "    \n",
    "    "
   ]
  },
  {
   "cell_type": "code",
   "execution_count": 18,
   "id": "4c6e1625",
   "metadata": {},
   "outputs": [
    {
     "name": "stdout",
     "output_type": "stream",
     "text": [
      "5\n",
      "4\n",
      "3\n",
      "2\n",
      "1\n"
     ]
    }
   ],
   "source": [
    "n=int(input())\n",
    "i=0\n",
    "while 1<n:\n",
    "    n=n-1\n",
    "    i=n\n",
    "    print(i)"
   ]
  },
  {
   "cell_type": "code",
   "execution_count": 36,
   "id": "d4215ba1",
   "metadata": {},
   "outputs": [
    {
     "name": "stdout",
     "output_type": "stream",
     "text": [
      "3\n",
      "5\n",
      " * * * * *\n",
      " * * * * *\n",
      " * * * * *\n"
     ]
    }
   ],
   "source": [
    "m=int(input())\n",
    "n=int(input())\n",
    "for i in range(1,m+1):\n",
    "    print(((m-2)*\" *\") + ((n-1)*\" *\"))"
   ]
  },
  {
   "cell_type": "code",
   "execution_count": 37,
   "id": "48899b52",
   "metadata": {},
   "outputs": [
    {
     "name": "stdout",
     "output_type": "stream",
     "text": [
      "3\n",
      "5\n",
      " * * * * *\n",
      " * * * * *\n",
      " * * * * *\n"
     ]
    }
   ],
   "source": [
    "m=int(input())\n",
    "n=int(input())\n",
    "count=0\n",
    "while count<m:\n",
    "    print(\" *\"*n)\n",
    "    count=count+1"
   ]
  },
  {
   "cell_type": "code",
   "execution_count": 38,
   "id": "f34d53c2",
   "metadata": {},
   "outputs": [
    {
     "name": "stdout",
     "output_type": "stream",
     "text": [
      "3\n",
      "42\n"
     ]
    }
   ],
   "source": [
    "x=int(input())\n",
    "if x==3:\n",
    "    print(2*x*7)"
   ]
  },
  {
   "cell_type": "code",
   "execution_count": 7,
   "id": "b0c187a2",
   "metadata": {},
   "outputs": [
    {
     "name": "stdout",
     "output_type": "stream",
     "text": [
      "4\n",
      "\n",
      "\n",
      " *\n",
      " * *\n",
      " * * *\n",
      " * * * *\n",
      " *\n",
      " * *\n",
      " * * *\n",
      " * * * *\n"
     ]
    }
   ],
   "source": [
    "n=int(input())\n",
    "count=0\n",
    "num=0\n",
    "while count<=n :\n",
    "    print(count * \" *\")\n",
    "    count=count+1\n",
    "    while num<=n:\n",
    "        print(num * \" *\")\n",
    "        num=num+1\n",
    "    "
   ]
  },
  {
   "cell_type": "code",
   "execution_count": 41,
   "id": "e47995d5",
   "metadata": {},
   "outputs": [
    {
     "name": "stdout",
     "output_type": "stream",
     "text": [
      "3\n",
      "4\n",
      "1 1 1 \n",
      "2 2 2 \n",
      "3 3 3 \n"
     ]
    }
   ],
   "source": [
    "a=int(input())\n",
    "b=int(input())\n",
    "count=1\n",
    "while count<b:\n",
    "    print((str(count)+\" \")*a)\n",
    "    count=count+1\n"
   ]
  },
  {
   "cell_type": "code",
   "execution_count": 23,
   "id": "4f9b64f8",
   "metadata": {},
   "outputs": [
    {
     "name": "stdout",
     "output_type": "stream",
     "text": [
      "6\n",
      "4\n",
      "5\n",
      "6\n",
      "7\n",
      "8\n",
      "9\n",
      "6.5\n"
     ]
    }
   ],
   "source": [
    "n=int(input())\n",
    "count=0\n",
    "sum_of=0\n",
    "while count<n:\n",
    "    m=int(input())\n",
    "    sum_of=sum_of+m\n",
    "    count=count+1\n",
    "print(sum_of/n)\n",
    "    "
   ]
  },
  {
   "cell_type": "code",
   "execution_count": 26,
   "id": "5fdd5f32",
   "metadata": {},
   "outputs": [
    {
     "name": "stdout",
     "output_type": "stream",
     "text": [
      "3\n",
      "4\n",
      "5\n",
      "6\n",
      "5.0\n"
     ]
    }
   ],
   "source": [
    "m=int(input())\n",
    "count=0\n",
    "num=0\n",
    "while count<m:\n",
    "    i=int(input())\n",
    "    num=num+i\n",
    "    count=count+1\n",
    "print(num/m)"
   ]
  },
  {
   "cell_type": "code",
   "execution_count": 29,
   "id": "18f96a2b",
   "metadata": {},
   "outputs": [
    {
     "name": "stdout",
     "output_type": "stream",
     "text": [
      "3\n",
      " *\n",
      " * *\n",
      " * * *\n",
      " *\n",
      " * *\n",
      " * * *\n"
     ]
    }
   ],
   "source": [
    "j=int(input())\n",
    "count=0\n",
    "num=0\n",
    "while count<j:\n",
    "    count=count+1\n",
    "    print(count*\" *\")\n",
    "while num<j:\n",
    "    num=num+1\n",
    "    print(num*\" *\")"
   ]
  },
  {
   "cell_type": "code",
   "execution_count": 45,
   "id": "23a15d47",
   "metadata": {},
   "outputs": [
    {
     "name": "stdout",
     "output_type": "stream",
     "text": [
      "4\n",
      "2\n",
      "30\n"
     ]
    }
   ],
   "source": [
    "x=int(input())\n",
    "n=int(input())\n",
    "count=0\n",
    "num=1\n",
    "while count<n:\n",
    "    count=count+1\n",
    "    num=num * (x+count)\n",
    "print(num)"
   ]
  },
  {
   "cell_type": "code",
   "execution_count": 55,
   "id": "71585e0e",
   "metadata": {},
   "outputs": [
    {
     "name": "stdout",
     "output_type": "stream",
     "text": [
      "4\n",
      "30\n"
     ]
    }
   ],
   "source": [
    "a=int(input())\n",
    "count=0\n",
    "v=[]\n",
    "while 1<a+1:\n",
    "    count=a**2\n",
    "    a=a-1\n",
    "    v.append(int(count))\n",
    "print(sum(v))\n",
    "    \n",
    "    "
   ]
  },
  {
   "cell_type": "code",
   "execution_count": 57,
   "id": "eecfa10d",
   "metadata": {},
   "outputs": [
    {
     "name": "stdout",
     "output_type": "stream",
     "text": [
      "4\n",
      "30\n"
     ]
    }
   ],
   "source": [
    "n=int(input())\n",
    "count=0\n",
    "num=0\n",
    "while count<n:\n",
    "    count=count+1\n",
    "    num=num+(count**2)\n",
    "print(num)"
   ]
  },
  {
   "cell_type": "code",
   "execution_count": 59,
   "id": "7d975447",
   "metadata": {},
   "outputs": [
    {
     "name": "stdout",
     "output_type": "stream",
     "text": [
      "5\n",
      "4\n",
      "3\n",
      "2\n",
      "1\n"
     ]
    }
   ],
   "source": [
    "m=int(input())\n",
    "count=1\n",
    "while 1<m:\n",
    "    m=m-1\n",
    "    count=m\n",
    "    print(count)"
   ]
  },
  {
   "cell_type": "code",
   "execution_count": 62,
   "id": "b0711cb5",
   "metadata": {},
   "outputs": [
    {
     "name": "stdout",
     "output_type": "stream",
     "text": [
      "5\n",
      "4\n",
      "3\n",
      "2\n",
      "1\n",
      "0\n"
     ]
    }
   ],
   "source": [
    "m=int(input())\n",
    "count=0\n",
    "while count<m:\n",
    "    print(n-count)\n",
    "    count=count+1"
   ]
  },
  {
   "cell_type": "code",
   "execution_count": 3,
   "id": "00865a7c",
   "metadata": {},
   "outputs": [
    {
     "name": "stdout",
     "output_type": "stream",
     "text": [
      "5\n",
      "5\n",
      "4\n",
      "3\n",
      "2\n",
      "1\n"
     ]
    }
   ],
   "source": [
    "m=int(input())\n",
    "for i in range(m,0,-1):\n",
    "    print(i)"
   ]
  },
  {
   "cell_type": "code",
   "execution_count": 5,
   "id": "1549dceb",
   "metadata": {
    "scrolled": true
   },
   "outputs": [
    {
     "name": "stdout",
     "output_type": "stream",
     "text": [
      "5\n",
      "5\n",
      "4\n",
      "3\n",
      "2\n",
      "1\n"
     ]
    }
   ],
   "source": [
    "x=int(input())\n",
    "for i in range(x):\n",
    "    print(x-i)"
   ]
  },
  {
   "cell_type": "code",
   "execution_count": 12,
   "id": "8c8c3df5",
   "metadata": {},
   "outputs": [
    {
     "name": "stdout",
     "output_type": "stream",
     "text": [
      "3\n",
      "2\n",
      "3\n",
      "7\n",
      "42\n"
     ]
    }
   ],
   "source": [
    "n=int(input())\n",
    "num=1\n",
    "for i in range(1,n+1):\n",
    "    n=int(input())\n",
    "    num=num*n\n",
    "print(num)"
   ]
  },
  {
   "cell_type": "code",
   "execution_count": 20,
   "id": "64d323db",
   "metadata": {},
   "outputs": [
    {
     "name": "stdout",
     "output_type": "stream",
     "text": [
      "3\n",
      "5\n",
      " + + + + +\n",
      " + + + + +\n",
      " + + + + +\n"
     ]
    }
   ],
   "source": [
    "m=int(input())\n",
    "n=int(input())\n",
    "for i in range(1,m+1):\n",
    "    x=n*\" +\"\n",
    "    print(x)"
   ]
  },
  {
   "cell_type": "code",
   "execution_count": 25,
   "id": "3eb516f6",
   "metadata": {},
   "outputs": [
    {
     "name": "stdout",
     "output_type": "stream",
     "text": [
      "4\n",
      " *\n",
      " * *\n",
      " * * *\n",
      " * * * *\n",
      " *\n",
      " * *\n",
      " * * *\n",
      " * * * *\n"
     ]
    }
   ],
   "source": [
    "n=int(input())\n",
    "for i in range(1,n+1):\n",
    "    print(i*\" *\")\n",
    "for y in range(1,n+1):\n",
    "    print(y*\" *\")"
   ]
  },
  {
   "cell_type": "code",
   "execution_count": 42,
   "id": "3c489b12",
   "metadata": {},
   "outputs": [
    {
     "name": "stdout",
     "output_type": "stream",
     "text": [
      "3\n",
      "111\n",
      "222\n",
      "333\n"
     ]
    }
   ],
   "source": [
    "x=int(input())\n",
    "count=0\n",
    "for i in range(1,x+1):\n",
    "    count=str(i)*x\n",
    "    print(count)"
   ]
  },
  {
   "cell_type": "code",
   "execution_count": 49,
   "id": "71d5830d",
   "metadata": {},
   "outputs": [
    {
     "name": "stdout",
     "output_type": "stream",
     "text": [
      "3\n",
      "4\n",
      "1 1 1 1 \n",
      "2 2 2 2 \n",
      "3 3 3 3 \n"
     ]
    }
   ],
   "source": [
    "m=int(input())\n",
    "n=int(input())\n",
    "for i in range(1,m+1):\n",
    "    print((str(i)+\" \")*n)\n",
    "    "
   ]
  },
  {
   "cell_type": "code",
   "execution_count": 51,
   "id": "5a244f7f",
   "metadata": {},
   "outputs": [
    {
     "name": "stdout",
     "output_type": "stream",
     "text": [
      "4\n",
      "0\n",
      "1\n",
      "2\n",
      "3\n",
      "4\n"
     ]
    }
   ],
   "source": [
    "n=int(input())\n",
    "for i in range(n+1):\n",
    "    print(i)"
   ]
  },
  {
   "cell_type": "code",
   "execution_count": 57,
   "id": "6268c619",
   "metadata": {},
   "outputs": [
    {
     "name": "stdout",
     "output_type": "stream",
     "text": [
      "5\n",
      "3.0\n"
     ]
    }
   ],
   "source": [
    "x=int(input())\n",
    "a=[]\n",
    "for i in range(1,x+1):\n",
    "    a.append(int(i))\n",
    "print(sum(a)/x)\n",
    "    "
   ]
  },
  {
   "cell_type": "code",
   "execution_count": 56,
   "id": "8f628cc2",
   "metadata": {},
   "outputs": [
    {
     "name": "stdout",
     "output_type": "stream",
     "text": [
      "5\n",
      "4\n",
      "3\n",
      "2\n",
      "1\n",
      "5\n",
      "3.0\n"
     ]
    }
   ],
   "source": [
    "n=int(input())\n",
    "count=0\n",
    "for i in range(n):\n",
    "    n=int(input())\n",
    "    count=count+n\n",
    "    avg=count/n\n",
    "print(avg)"
   ]
  },
  {
   "cell_type": "code",
   "execution_count": 60,
   "id": "9385718e",
   "metadata": {},
   "outputs": [
    {
     "name": "stdout",
     "output_type": "stream",
     "text": [
      "3\n",
      " *\n",
      " * *\n",
      " * * *\n",
      " *\n",
      " * *\n",
      " * * *\n"
     ]
    }
   ],
   "source": [
    "m=int(input())\n",
    "for i in range(1,m+1):\n",
    "    print(i*\" *\")\n",
    "for i in range(1,m+1):\n",
    "    print(i*\" *\")"
   ]
  },
  {
   "cell_type": "code",
   "execution_count": 62,
   "id": "fc2fc16a",
   "metadata": {},
   "outputs": [
    {
     "name": "stdout",
     "output_type": "stream",
     "text": [
      "5\n",
      "7\n",
      "210\n"
     ]
    }
   ],
   "source": [
    "x=int(input())\n",
    "y=int(input())\n",
    "count=1\n",
    "for i in range(x,y+1):\n",
    "    count=count*i\n",
    "print(count)\n",
    "    "
   ]
  },
  {
   "cell_type": "code",
   "execution_count": 65,
   "id": "831e28a8",
   "metadata": {},
   "outputs": [
    {
     "name": "stdout",
     "output_type": "stream",
     "text": [
      "6\n",
      "91\n"
     ]
    }
   ],
   "source": [
    "x=int(input())\n",
    "product=0\n",
    "for i in range(1,x+1):\n",
    "    product=product+(i**2)\n",
    "print(product)"
   ]
  },
  {
   "cell_type": "code",
   "execution_count": 11,
   "id": "81051fa0",
   "metadata": {},
   "outputs": [
    {
     "name": "stdout",
     "output_type": "stream",
     "text": [
      "2\n",
      "5\n",
      "32\n"
     ]
    }
   ],
   "source": [
    "x=int(input())\n",
    "y=int(input())\n",
    "count=1\n",
    "for i in range(1,y+1):\n",
    "    count=count*x\n",
    "print(count)"
   ]
  },
  {
   "cell_type": "code",
   "execution_count": 18,
   "id": "74e1c104",
   "metadata": {},
   "outputs": [
    {
     "name": "stdout",
     "output_type": "stream",
     "text": [
      "2\n",
      "5\n",
      "32\n"
     ]
    }
   ],
   "source": [
    "m=int(input())\n",
    "n=int(input())\n",
    "num=1\n",
    "for i in range(n):\n",
    "    num=num*m\n",
    "print(num)"
   ]
  },
  {
   "cell_type": "code",
   "execution_count": 23,
   "id": "e1eb99a8",
   "metadata": {},
   "outputs": [
    {
     "name": "stdout",
     "output_type": "stream",
     "text": [
      "5\n",
      "3\n",
      "1\n",
      "9\n",
      "36\n",
      "100\n",
      "225\n"
     ]
    }
   ],
   "source": [
    "x=int(input())\n",
    "y=int(input())\n",
    "count=1\n",
    "num=0\n",
    "for i in range(1,x+1):\n",
    "    count=i**y\n",
    "    num=num+count\n",
    "    print(num)"
   ]
  },
  {
   "cell_type": "code",
   "execution_count": 28,
   "id": "7418d3da",
   "metadata": {},
   "outputs": [
    {
     "name": "stdout",
     "output_type": "stream",
     "text": [
      "2\n",
      "5\n",
      "120\n"
     ]
    }
   ],
   "source": [
    "x=int(input())\n",
    "y=int(input())\n",
    "count=1\n",
    "num=1\n",
    "for i in range(x,y+1):\n",
    "    count=count*i\n",
    "print(count)"
   ]
  },
  {
   "cell_type": "code",
   "execution_count": 6,
   "id": "fa12bdd2",
   "metadata": {},
   "outputs": [
    {
     "name": "stdout",
     "output_type": "stream",
     "text": [
      "10\n",
      "[1]\n",
      "[1, 1]\n",
      "[1, 1, 1]\n",
      "[1, 1, 1, 1]\n",
      "[1, 1, 1, 1, 1]\n",
      "[1, 1, 1, 1, 1, 1]\n",
      "[1, 1, 1, 1, 1, 1, 1]\n",
      "[1, 1, 1, 1, 1, 1, 1, 1]\n",
      "[1, 1, 1, 1, 1, 1, 1, 1, 1]\n",
      "[1, 1, 1, 1, 1, 1, 1, 1, 1, 2]\n"
     ]
    }
   ],
   "source": [
    "n=int(input())\n",
    "count=0\n",
    "num=0\n",
    "a=[]\n",
    "b=[]\n",
    "for i in range(1,n+1):\n",
    "    if i<10:\n",
    "        count=1\n",
    "        a.append(int(count))\n",
    "        x=sum(a)\n",
    "        print(a)\n",
    "    elif i==10:\n",
    "        num=2\n",
    "        b.append(int(num))\n",
    "        y=sum(b)\n",
    "print(a+b)\n"
   ]
  },
  {
   "cell_type": "code",
   "execution_count": 60,
   "id": "efacf41f",
   "metadata": {},
   "outputs": [
    {
     "name": "stdout",
     "output_type": "stream",
     "text": [
      "10\n",
      "11\n"
     ]
    }
   ],
   "source": [
    "n=int(input())\n",
    "single=\"\"\n",
    "double=\"\"\n",
    "for i in range(1,n+1):\n",
    "    if len(str(i))==1:\n",
    "        single=single+str(i)\n",
    "    else:\n",
    "        double=double+str(i)\n",
    "print(len(single)+len(double))\n"
   ]
  },
  {
   "cell_type": "code",
   "execution_count": 10,
   "id": "219dda14",
   "metadata": {},
   "outputs": [
    {
     "name": "stdout",
     "output_type": "stream",
     "text": [
      "2\n",
      "7\n",
      "18\n"
     ]
    }
   ],
   "source": [
    "n=int(input())\n",
    "m=int(input())\n",
    "count=1\n",
    "for i in range(n,m+1):\n",
    "    if i%3==0:\n",
    "        count=count*i\n",
    "print(count)"
   ]
  },
  {
   "cell_type": "code",
   "execution_count": 13,
   "id": "fc546b31",
   "metadata": {},
   "outputs": [
    {
     "name": "stdout",
     "output_type": "stream",
     "text": [
      "5\n",
      "3\n",
      "1\n",
      "9\n",
      "36\n",
      "100\n",
      "225\n"
     ]
    }
   ],
   "source": [
    "n=int(input())\n",
    "k=int(input())\n",
    "product=0\n",
    "for i in range(1,n+1):\n",
    "    product=product+(i**k)\n",
    "    print(product)"
   ]
  },
  {
   "cell_type": "code",
   "execution_count": 16,
   "id": "6c44b77d",
   "metadata": {},
   "outputs": [
    {
     "name": "stdout",
     "output_type": "stream",
     "text": [
      "50\n",
      "2\n"
     ]
    }
   ],
   "source": [
    "x=int(input())\n",
    "count=0\n",
    "for i in range(1,x+1):\n",
    "    if i%6==0 and i%8==0 :\n",
    "        count=count+1\n",
    "print(count)"
   ]
  },
  {
   "cell_type": "code",
   "execution_count": 30,
   "id": "bb97ea49",
   "metadata": {},
   "outputs": [
    {
     "name": "stdout",
     "output_type": "stream",
     "text": [
      "7\n",
      " * * * * * * *\n",
      " * * * * * *\n",
      " * * * * *\n",
      " * * * *\n",
      " * * *\n",
      " * *\n",
      " *\n",
      "7\n",
      " * * * * * * *\n",
      " * * * * * *\n",
      " * * * * *\n",
      " * * * *\n",
      " * * *\n",
      " * *\n",
      " *\n",
      "\n"
     ]
    }
   ],
   "source": [
    "x=int(input())\n",
    "for i in range(x,0,-1):\n",
    "    print(i*\" *\")\n",
    "    \n",
    "# Another method\n",
    "x=int(input())\n",
    "for i in range(0,x+1):\n",
    "    print((x-i)*\" *\")"
   ]
  },
  {
   "cell_type": "code",
   "execution_count": 27,
   "id": "b65e8f94",
   "metadata": {},
   "outputs": [
    {
     "name": "stdout",
     "output_type": "stream",
     "text": [
      "3\n",
      "\n",
      " *\n",
      " * *\n",
      " * * *\n",
      " * * *\n",
      " * *\n",
      " *\n"
     ]
    }
   ],
   "source": [
    "x=int(input())\n",
    "for i in range(x+1):\n",
    "    print(i*\" *\")\n",
    "for i in range(x,0,-1):\n",
    "    print(i*\" *\")"
   ]
  },
  {
   "cell_type": "code",
   "execution_count": 36,
   "id": "730aeff3",
   "metadata": {},
   "outputs": [
    {
     "name": "stdout",
     "output_type": "stream",
     "text": [
      "2\n",
      "3\n",
      "8\n"
     ]
    }
   ],
   "source": [
    "x=int(input())\n",
    "y=int(input())\n",
    "count=1\n",
    "for i in range(y):\n",
    "    count=count*x\n",
    "print(count)"
   ]
  },
  {
   "cell_type": "code",
   "execution_count": 4,
   "id": "64e0fc59",
   "metadata": {},
   "outputs": [
    {
     "name": "stdout",
     "output_type": "stream",
     "text": [
      "2\n",
      "2 x 1 = 2\n",
      "2 x 2 = 4\n",
      "2 x 3 = 6\n",
      "2 x 4 = 8\n",
      "2 x 5 = 10\n",
      "2 x 6 = 12\n",
      "2 x 7 = 14\n",
      "2 x 8 = 16\n",
      "2 x 9 = 18\n",
      "2 x 10 = 20\n"
     ]
    }
   ],
   "source": [
    "n=int(input())\n",
    "for i in range(1,11):\n",
    "    print(n,\"x\",i,\"=\",n*i)"
   ]
  },
  {
   "cell_type": "code",
   "execution_count": 34,
   "id": "faf66164",
   "metadata": {},
   "outputs": [
    {
     "name": "stdout",
     "output_type": "stream",
     "text": [
      "Enter your vowels letter :container\n",
      "oaie\n"
     ]
    }
   ],
   "source": [
    "x=str(input(\"Enter your vowels letter :\" ))\n",
    "vowels=\"\"\n",
    "for i in (x):\n",
    "    if (i==\"a\") or (i==\"e\") or (i==\"i\") or (i==\"o\") or (i==\"u\") :\n",
    "        vowels=vowels + i\n",
    "print(vowels)"
   ]
  },
  {
   "cell_type": "code",
   "execution_count": 28,
   "id": "ac9af46a",
   "metadata": {},
   "outputs": [
    {
     "name": "stdout",
     "output_type": "stream",
     "text": [
      "Hurry ! we have won the match\n",
      "hctam eht now evah ew ! yrruH\n"
     ]
    }
   ],
   "source": [
    "x=str(input())\n",
    "reverse=\"\"\n",
    "for i in x:\n",
    "    reverse=i+reverse\n",
    "print(reverse)"
   ]
  },
  {
   "cell_type": "code",
   "execution_count": 37,
   "id": "eefb88e7",
   "metadata": {},
   "outputs": [
    {
     "name": "stdout",
     "output_type": "stream",
     "text": [
      "24753\n",
      "21231\n"
     ]
    }
   ],
   "source": [
    "x=int(input())\n",
    "y=len(str(x))\n",
    "count=0\n",
    "for i in str(x):\n",
    "    result=int(i)**y\n",
    "    count=count+result\n",
    "print(count)\n",
    "    "
   ]
  },
  {
   "cell_type": "code",
   "execution_count": 41,
   "id": "a896abd5",
   "metadata": {},
   "outputs": [
    {
     "name": "stdout",
     "output_type": "stream",
     "text": [
      "1634\n",
      "1634\n",
      "Arm strong number\n"
     ]
    }
   ],
   "source": [
    "# To Find Arm Strong Number \n",
    "n=int(input())\n",
    "v=len(str(n))\n",
    "count=0\n",
    "for i in str(n):\n",
    "    result=int(i)**v\n",
    "    count=count+result\n",
    "print(count)\n",
    "if count==n:\n",
    "    print(\"Arm strong number\")\n",
    "else:\n",
    "    print(\"is not Arm strong number\")"
   ]
  },
  {
   "cell_type": "code",
   "execution_count": 45,
   "id": "c378fa72",
   "metadata": {},
   "outputs": [
    {
     "name": "stdout",
     "output_type": "stream",
     "text": [
      "6\n",
      "1 divisble number\n",
      "2 divisble number\n",
      "3 divisble number\n",
      "4 not divisible number\n",
      "5 not divisible number\n",
      "6 divisble number\n"
     ]
    }
   ],
   "source": [
    "a=int(input())\n",
    "count=0\n",
    "for i in range(1,a+1):\n",
    "    if a%i==0:\n",
    "        print(i,\"divisble number\")\n",
    "    else:\n",
    "        print(i,\"not divisible number\")"
   ]
  },
  {
   "cell_type": "code",
   "execution_count": 57,
   "id": "76118bbb",
   "metadata": {},
   "outputs": [
    {
     "name": "stdout",
     "output_type": "stream",
     "text": [
      "15\n",
      " 1 3 5 15\n"
     ]
    }
   ],
   "source": [
    "a=int(input())\n",
    "count=\"\"\n",
    "for i in range(1,a+1):\n",
    "    if a%i==0:\n",
    "        count=count+\" \"+str(i)\n",
    "print(count)"
   ]
  },
  {
   "cell_type": "code",
   "execution_count": 6,
   "id": "b264c988",
   "metadata": {},
   "outputs": [
    {
     "name": "stdout",
     "output_type": "stream",
     "text": [
      "8\n",
      "15\n"
     ]
    }
   ],
   "source": [
    "x=int(input())\n",
    "count=0\n",
    "for i in range(1,x+1):\n",
    "    if x%i==0:\n",
    "        count=count+i\n",
    "print(count)\n",
    "    "
   ]
  },
  {
   "cell_type": "code",
   "execution_count": 16,
   "id": "e6215b94",
   "metadata": {},
   "outputs": [
    {
     "name": "stdout",
     "output_type": "stream",
     "text": [
      "5\n",
      "8\n",
      "33\n",
      "49\n",
      "106\n",
      "199\n",
      "199\n"
     ]
    }
   ],
   "source": [
    "x=int(input())\n",
    "first_input=int(input())\n",
    "greatest_number=first_input\n",
    "for i in range(x-1):\n",
    "    m=int(input())\n",
    "    if m>greatest_number :\n",
    "        greatest_number=m\n",
    "print(greatest_number)"
   ]
  },
  {
   "cell_type": "code",
   "execution_count": 32,
   "id": "27b4fceb",
   "metadata": {},
   "outputs": [
    {
     "name": "stdout",
     "output_type": "stream",
     "text": [
      "21\n",
      "is not perfect number\n"
     ]
    }
   ],
   "source": [
    "# To Find Perfect Number\n",
    "x=int(input())\n",
    "count=0\n",
    "for i in range(1,x):\n",
    "    if x%i==0:\n",
    "        count=count+i\n",
    "if count==x:\n",
    "    print(\"perfect number\")\n",
    "else:\n",
    "    print(\"is not perfect number\")\n",
    "        "
   ]
  },
  {
   "cell_type": "code",
   "execution_count": 10,
   "id": "bfeb38cf",
   "metadata": {},
   "outputs": [
    {
     "name": "stdout",
     "output_type": "stream",
     "text": [
      "2\n",
      "13\n",
      "16\n"
     ]
    }
   ],
   "source": [
    "x=int(input())\n",
    "y=int(input())\n",
    "count=0\n",
    "num=0\n",
    "for i in range(x,y+1):\n",
    "    if i<10:\n",
    "        count=count+1\n",
    "    if i>=10:\n",
    "        num=num+2\n",
    "print(count+num)"
   ]
  },
  {
   "cell_type": "code",
   "execution_count": 11,
   "id": "031e666c",
   "metadata": {},
   "outputs": [
    {
     "name": "stdout",
     "output_type": "stream",
     "text": [
      "2\n",
      "13\n",
      "16\n"
     ]
    }
   ],
   "source": [
    "m=int(input())\n",
    "n=int(input())\n",
    "s=\"\"\n",
    "for i in range(m,n+1):\n",
    "    s=s+str(i)\n",
    "print(len(s))"
   ]
  },
  {
   "cell_type": "code",
   "execution_count": 17,
   "id": "76755754",
   "metadata": {},
   "outputs": [
    {
     "name": "stdout",
     "output_type": "stream",
     "text": [
      "6\n",
      "23\n",
      " 6 12 18\n"
     ]
    }
   ],
   "source": [
    "m=int(input())\n",
    "n=int(input())\n",
    "s=\"\"\n",
    "for  i in range(m,n+1):\n",
    "    if i%m==0:\n",
    "        s=s+\" \"+str(i)\n",
    "print(s)"
   ]
  },
  {
   "cell_type": "code",
   "execution_count": 14,
   "id": "9b25a0e6",
   "metadata": {},
   "outputs": [
    {
     "name": "stdout",
     "output_type": "stream",
     "text": [
      "indian\n",
      "string has more than two vowels\n"
     ]
    }
   ],
   "source": [
    "x=input()\n",
    "count=0\n",
    "for i in (x):\n",
    "    if i==\"a\" or i==\"e\" or i==\"i\" or i==\"o\" or i==\"u\":\n",
    "        count=count+1\n",
    "if count>2:\n",
    "    print(\"string has more than two vowels\")\n",
    "else:\n",
    "    print(\"the program doesn't have two vowels\")"
   ]
  },
  {
   "cell_type": "code",
   "execution_count": 20,
   "id": "5af6dd10",
   "metadata": {},
   "outputs": [
    {
     "name": "stdout",
     "output_type": "stream",
     "text": [
      "111111\n",
      "divisible number\n"
     ]
    }
   ],
   "source": [
    "n=int(input())\n",
    "count=1\n",
    "for i in range(2,9+1):\n",
    "    if n%i==0:\n",
    "        count=count+1\n",
    "if count==0:\n",
    "    print(\"indivisible number\")\n",
    "else:\n",
    "    print(\"divisible number\")\n"
   ]
  },
  {
   "cell_type": "code",
   "execution_count": 26,
   "id": "c25121b2",
   "metadata": {},
   "outputs": [
    {
     "name": "stdout",
     "output_type": "stream",
     "text": [
      "5\n",
      "8\n",
      "11\n",
      "96\n",
      "49\n",
      "25\n",
      "8\n"
     ]
    }
   ],
   "source": [
    "n=int(input())\n",
    "count=int(input())\n",
    "smallest_number=count\n",
    "for i in range(1,n):\n",
    "    x=int(input())\n",
    "    if x<smallest_number:\n",
    "        smallest_number=x\n",
    "print(smallest_number)"
   ]
  },
  {
   "cell_type": "code",
   "execution_count": 30,
   "id": "ed913b54",
   "metadata": {},
   "outputs": [
    {
     "name": "stdout",
     "output_type": "stream",
     "text": [
      "5\n",
      "8\n",
      "11\n",
      "96\n",
      "49\n",
      "8\n"
     ]
    }
   ],
   "source": [
    "n=int(input())\n",
    "small=0\n",
    "for i in range(n-1):\n",
    "    n=int(input())\n",
    "    if small==0:\n",
    "        small=n\n",
    "    elif n<small:\n",
    "        small=n\n",
    "print(small)"
   ]
  },
  {
   "cell_type": "code",
   "execution_count": 26,
   "id": "59b66bb6",
   "metadata": {},
   "outputs": [
    {
     "name": "stdout",
     "output_type": "stream",
     "text": [
      "5\n",
      "25\n",
      "9 18 \n"
     ]
    }
   ],
   "source": [
    "m=int(input())\n",
    "n=int(input())\n",
    "s=\"\"\n",
    "for i in range(m,n+1):\n",
    "    if i%9==0:\n",
    "        s=s+str(i)+\" \"\n",
    "if s==\"\":\n",
    "    print(\"no number found\")\n",
    "else:\n",
    "    print(s)"
   ]
  },
  {
   "cell_type": "code",
   "execution_count": 36,
   "id": "823544be",
   "metadata": {},
   "outputs": [
    {
     "name": "stdout",
     "output_type": "stream",
     "text": [
      "6\n",
      "2\n",
      "22\n",
      "222\n",
      "2222\n",
      "22222\n",
      "222222\n"
     ]
    }
   ],
   "source": [
    "n=int(input())\n",
    "for i in range(1,n+1):\n",
    "    print(i*\"2\")"
   ]
  },
  {
   "cell_type": "code",
   "execution_count": 41,
   "id": "a36d5f14",
   "metadata": {},
   "outputs": [
    {
     "name": "stdout",
     "output_type": "stream",
     "text": [
      "3\n",
      "246\n"
     ]
    }
   ],
   "source": [
    "n=int(input())\n",
    "count=1\n",
    "a=[]\n",
    "for i in range(1,n+1):\n",
    "    count=i*\"2\"\n",
    "    a.append(int(count))\n",
    "    x=sum(a)\n",
    "print(x)"
   ]
  },
  {
   "cell_type": "code",
   "execution_count": 42,
   "id": "1421d393",
   "metadata": {},
   "outputs": [
    {
     "name": "stdout",
     "output_type": "stream",
     "text": [
      "3\n",
      "246\n"
     ]
    }
   ],
   "source": [
    "n=int(input())\n",
    "m=\"2\"\n",
    "total=0\n",
    "for i in range(1,n+1):\n",
    "    count=m*i\n",
    "    total=total+int(count)\n",
    "print(total)"
   ]
  },
  {
   "cell_type": "code",
   "execution_count": 44,
   "id": "25991614",
   "metadata": {},
   "outputs": [
    {
     "name": "stdout",
     "output_type": "stream",
     "text": [
      "4\n",
      "1\n",
      "12\n",
      "123\n",
      "1234\n"
     ]
    }
   ],
   "source": [
    "n=int(input())\n",
    "x=\"1\"\n",
    "count=0\n",
    "for i in range(1,n+1):\n",
    "    term=i*x\n",
    "    count=count+int(term)\n",
    "    print(count)"
   ]
  },
  {
   "cell_type": "code",
   "execution_count": 50,
   "id": "e2fd36e3",
   "metadata": {},
   "outputs": [
    {
     "name": "stdout",
     "output_type": "stream",
     "text": [
      "7\n",
      "4\n",
      "8638\n"
     ]
    }
   ],
   "source": [
    "x=int(input())\n",
    "y=int(input())\n",
    "total=0\n",
    "for i in range(1,y+1):\n",
    "    count=str(x)*i\n",
    "    total=total+int(count)\n",
    "print(total)"
   ]
  },
  {
   "cell_type": "code",
   "execution_count": 12,
   "id": "fc5df783",
   "metadata": {},
   "outputs": [
    {
     "name": "stdout",
     "output_type": "stream",
     "text": [
      "4\n",
      "3\n",
      "16\n",
      "1952\n",
      "199088\n"
     ]
    }
   ],
   "source": [
    "m=int(input())\n",
    "n=int(input())\n",
    "count=0\n",
    "total=0\n",
    "for i in range(1,n+1):\n",
    "    x=str(m)*i\n",
    "    count=(int(x))**2\n",
    "    total=total+count\n",
    "    print(total)"
   ]
  },
  {
   "cell_type": "code",
   "execution_count": 15,
   "id": "2633d4be",
   "metadata": {},
   "outputs": [
    {
     "name": "stdout",
     "output_type": "stream",
     "text": [
      "4\n",
      "1\n",
      "12\n",
      "123\n",
      "1234\n"
     ]
    }
   ],
   "source": [
    "m=int(input())\n",
    "count=\"\"\n",
    "for i in range(1,m+1):\n",
    "    count=count+str(i)\n",
    "    print(count)"
   ]
  },
  {
   "cell_type": "code",
   "execution_count": 16,
   "id": "bcc27851",
   "metadata": {},
   "outputs": [
    {
     "name": "stdout",
     "output_type": "stream",
     "text": [
      "1\n",
      "7\n",
      "7\n"
     ]
    }
   ],
   "source": [
    "x=int(input())\n",
    "y=int(input())\n",
    "sum_of=0\n",
    "power=1\n",
    "for i in range(y):\n",
    "    if i%2==0:\n",
    "        sum_of=sum_of+(x**power)\n",
    "    else:\n",
    "        sum_of=sum_of+(x**power)\n",
    "    power=power+2\n",
    "print(sum_of)"
   ]
  },
  {
   "cell_type": "code",
   "execution_count": 7,
   "id": "426b0f7a",
   "metadata": {},
   "outputs": [
    {
     "name": "stdout",
     "output_type": "stream",
     "text": [
      "--c--a--r--\n",
      "car\n"
     ]
    }
   ],
   "source": [
    "m=input()\n",
    "s=\"\"\n",
    "for i in m:\n",
    "    if i.isalpha():\n",
    "        s=s+i\n",
    "print(s)\n",
    "    "
   ]
  },
  {
   "cell_type": "code",
   "execution_count": 9,
   "id": "2e0084c9",
   "metadata": {},
   "outputs": [
    {
     "name": "stdout",
     "output_type": "stream",
     "text": [
      "5GNetwork\n",
      "True\n",
      "True\n",
      "True\n",
      "True\n",
      "True\n",
      "True\n",
      "True\n",
      "True\n",
      "True\n"
     ]
    }
   ],
   "source": [
    "v=input()\n",
    "for i in v:\n",
    "    if i.isalnum():\n",
    "        print(\"True\")\n",
    "    else:\n",
    "        (\"False\")\n",
    "            "
   ]
  },
  {
   "cell_type": "code",
   "execution_count": 13,
   "id": "7f0947a7",
   "metadata": {},
   "outputs": [
    {
     "name": "stdout",
     "output_type": "stream",
     "text": [
      "5Gnetwork\n",
      "False\n"
     ]
    }
   ],
   "source": [
    "x=input()\n",
    "v=\"\"\n",
    "for i in x:\n",
    "    if i.isdigit():\n",
    "        v=v+i\n",
    "print(len(x)==len(v))\n",
    "\n",
    "    "
   ]
  },
  {
   "cell_type": "code",
   "execution_count": 14,
   "id": "172d75a5",
   "metadata": {},
   "outputs": [
    {
     "name": "stdout",
     "output_type": "stream",
     "text": [
      "              \"Hello\"\n",
      "\"Hello\"\n"
     ]
    }
   ],
   "source": [
    "z=input().strip()\n",
    "print(z)"
   ]
  },
  {
   "cell_type": "code",
   "execution_count": 15,
   "id": "399da2e2",
   "metadata": {},
   "outputs": [
    {
     "name": "stdout",
     "output_type": "stream",
     "text": [
      "*****Hello world*****\n",
      "Hello world\n"
     ]
    }
   ],
   "source": [
    "x=input()\n",
    "v=x.strip(\"*\")\n",
    "print(v)"
   ]
  },
  {
   "cell_type": "code",
   "execution_count": 16,
   "id": "11ca6a1d",
   "metadata": {},
   "outputs": [
    {
     "name": "stdout",
     "output_type": "stream",
     "text": [
      "AUGUEST\n",
      "auguest\n"
     ]
    }
   ],
   "source": [
    "b=input()\n",
    "x=b.lower()\n",
    "print(x)"
   ]
  },
  {
   "cell_type": "code",
   "execution_count": 20,
   "id": "b2aaf90b",
   "metadata": {},
   "outputs": [
    {
     "name": "stdout",
     "output_type": "stream",
     "text": [
      "NAMIKAZE MINATO\n",
      "True\n"
     ]
    }
   ],
   "source": [
    "v=input()\n",
    "if v.isupper():\n",
    "    print(\"True\")\n",
    "else:\n",
    "    print(\"False\")"
   ]
  },
  {
   "cell_type": "code",
   "execution_count": 24,
   "id": "ae87cccc",
   "metadata": {},
   "outputs": [
    {
     "name": "stdout",
     "output_type": "stream",
     "text": [
      "26-05-2004\n",
      "26/05/2004\n"
     ]
    }
   ],
   "source": [
    "x=input()\n",
    "v=x.replace(\"-\",\"/\")\n",
    "print(v)\n"
   ]
  },
  {
   "cell_type": "code",
   "execution_count": 25,
   "id": "40eee065",
   "metadata": {},
   "outputs": [
    {
     "name": "stdout",
     "output_type": "stream",
     "text": [
      "NAruto\n",
      "NARUTO\n",
      "naruto\n"
     ]
    }
   ],
   "source": [
    "x=input()\n",
    "a=x.upper()\n",
    "b=x.lower()\n",
    "print(a)\n",
    "print(b)"
   ]
  },
  {
   "cell_type": "code",
   "execution_count": 28,
   "id": "53cd872f",
   "metadata": {},
   "outputs": [
    {
     "name": "stdout",
     "output_type": "stream",
     "text": [
      "SofTWaRe\n",
      "STWR\n"
     ]
    }
   ],
   "source": [
    "m=input()\n",
    "z=\"\"\n",
    "for i in m:\n",
    "    if i.isupper():\n",
    "        z=z+i\n",
    "print(z)"
   ]
  },
  {
   "cell_type": "code",
   "execution_count": 5,
   "id": "9b2a1dba",
   "metadata": {},
   "outputs": [
    {
     "name": "stdout",
     "output_type": "stream",
     "text": [
      "https://@yahoo.comm\n",
      "True\n"
     ]
    }
   ],
   "source": [
    "url=input()\n",
    "print(url.startswith(\"https://\"))"
   ]
  },
  {
   "cell_type": "code",
   "execution_count": 6,
   "id": "ebe4ebec",
   "metadata": {},
   "outputs": [
    {
     "name": "stdout",
     "output_type": "stream",
     "text": [
      "coding practice.py\n",
      "True\n"
     ]
    }
   ],
   "source": [
    "python_file=input()\n",
    "print(python_file.endswith(\".py\"))"
   ]
  },
  {
   "cell_type": "code",
   "execution_count": 29,
   "id": "16a4fb0d",
   "metadata": {},
   "outputs": [
    {
     "name": "stdout",
     "output_type": "stream",
     "text": [
      "malayalam\n",
      "malayalam\n",
      "malayalam\n"
     ]
    }
   ],
   "source": [
    "# palindrome \n",
    "x=input()\n",
    "forward=x[0:]\n",
    "backward=x[::-1]\n",
    "print(forward)\n",
    "print(backward)"
   ]
  },
  {
   "cell_type": "code",
   "execution_count": 34,
   "id": "4739e480",
   "metadata": {},
   "outputs": [
    {
     "name": "stdout",
     "output_type": "stream",
     "text": [
      "malayalam\n",
      "True\n"
     ]
    }
   ],
   "source": [
    "v=input()\n",
    "m=\"\"\n",
    "forward=x[0:]\n",
    "backward=x[::-1]\n",
    "if i in v:\n",
    "    if forward==backward :\n",
    "        print(\"True\")\n",
    "    else:\n",
    "        print(\"False\")\n",
    "            "
   ]
  },
  {
   "cell_type": "code",
   "execution_count": 39,
   "id": "566f55ba",
   "metadata": {},
   "outputs": [
    {
     "name": "stdout",
     "output_type": "stream",
     "text": [
      "Madam\n",
      "True\n"
     ]
    }
   ],
   "source": [
    "x=input()\n",
    "a=\"\"\n",
    "for i in x:\n",
    "    if x.upper or x.lower:\n",
    "        a=a+i\n",
    "print(x==a)"
   ]
  },
  {
   "cell_type": "code",
   "execution_count": 9,
   "id": "87124b41",
   "metadata": {},
   "outputs": [
    {
     "name": "stdout",
     "output_type": "stream",
     "text": [
      "Madam\n",
      "True\n"
     ]
    }
   ],
   "source": [
    "m=input()\n",
    "m=m.lower()\n",
    "rev=\"\"\n",
    "for i in m:\n",
    "    rev=i+rev\n",
    "print(rev==m)\n",
    "    "
   ]
  },
  {
   "cell_type": "code",
   "execution_count": 10,
   "id": "69382eb9",
   "metadata": {},
   "outputs": [
    {
     "name": "stdout",
     "output_type": "stream",
     "text": [
      "Muhsi777\n",
      "valid password\n"
     ]
    }
   ],
   "source": [
    "a=input()\n",
    "if a.isalnum() :\n",
    "    print(\"valid password\")\n",
    "else:\n",
    "    print(\"In valid password\")"
   ]
  },
  {
   "cell_type": "code",
   "execution_count": 14,
   "id": "3ee4b94e",
   "metadata": {},
   "outputs": [
    {
     "name": "stdout",
     "output_type": "stream",
     "text": [
      "Minato777\n",
      "Valid password\n"
     ]
    }
   ],
   "source": [
    "m=input()\n",
    "a=False\n",
    "for i in m:\n",
    "    if i.isdigit():\n",
    "        a=True\n",
    "if a:\n",
    "    print(\"Valid password\")\n",
    "else:\n",
    "    print(\"In valid password\")"
   ]
  },
  {
   "cell_type": "code",
   "execution_count": 31,
   "id": "d0fba950",
   "metadata": {},
   "outputs": [
    {
     "name": "stdout",
     "output_type": "stream",
     "text": [
      "NamikazeMinato\n",
      "Namikaze Minato\n"
     ]
    }
   ],
   "source": [
    "m=input()\n",
    "v=\"\"\n",
    "for i in m:\n",
    "    if i==i.upper():\n",
    "        v=v+\" \"+i\n",
    "    else:\n",
    "        v=v+i\n",
    "print(v.strip())"
   ]
  },
  {
   "cell_type": "code",
   "execution_count": 33,
   "id": "664d8a72",
   "metadata": {},
   "outputs": [
    {
     "name": "stdout",
     "output_type": "stream",
     "text": [
      "aChirstmasStory\n",
      "a-chirstmas-story\n"
     ]
    }
   ],
   "source": [
    "x=input()\n",
    "s=\"\"\n",
    "for i in x:\n",
    "    if i==i.upper():\n",
    "        s=s+\"-\"+i\n",
    "    else:\n",
    "        s=s+i\n",
    "print(s.lower())\n",
    "        "
   ]
  },
  {
   "cell_type": "code",
   "execution_count": 40,
   "id": "ccd847b7",
   "metadata": {},
   "outputs": [
    {
     "name": "stdout",
     "output_type": "stream",
     "text": [
      "Muhsi29\n",
      "Valid Password\n"
     ]
    }
   ],
   "source": [
    "a=input()\n",
    "v=False\n",
    "for i in a:\n",
    "    if i.isupper():\n",
    "        v=True\n",
    "if v :\n",
    "    print(\"Valid Password\")\n",
    "else:\n",
    "    print(\"In Valid Password\")\n",
    "    "
   ]
  },
  {
   "cell_type": "code",
   "execution_count": 42,
   "id": "758843bd",
   "metadata": {},
   "outputs": [
    {
     "name": "stdout",
     "output_type": "stream",
     "text": [
      "muhis\n",
      "In Valid Password\n"
     ]
    }
   ],
   "source": [
    "q=input()\n",
    "for i in q:\n",
    "    if i.isdigit():\n",
    "        a=True\n",
    "    else:\n",
    "        a=False\n",
    "if a:\n",
    "    print(\"Valid Password\")\n",
    "else:\n",
    "    print(\"In Valid Password\")"
   ]
  },
  {
   "cell_type": "code",
   "execution_count": 43,
   "id": "adb9c041",
   "metadata": {},
   "outputs": [
    {
     "name": "stdout",
     "output_type": "stream",
     "text": [
      "Coding\n",
      "cODING\n"
     ]
    }
   ],
   "source": [
    "c=input()\n",
    "print(c.swapcase())"
   ]
  },
  {
   "cell_type": "code",
   "execution_count": 50,
   "id": "b734754d",
   "metadata": {},
   "outputs": [
    {
     "name": "stdout",
     "output_type": "stream",
     "text": [
      "Coding\n",
      "cODING\n"
     ]
    }
   ],
   "source": [
    "x=input()\n",
    "v=\"\"\n",
    "for i in x:\n",
    "    if i==i.upper():\n",
    "        v=v+i.lower()\n",
    "    else:\n",
    "        v=v+i.upper()\n",
    "print(v)"
   ]
  },
  {
   "cell_type": "code",
   "execution_count": 32,
   "id": "3ef16272",
   "metadata": {},
   "outputs": [
    {
     "name": "stdout",
     "output_type": "stream",
     "text": [
      "trac\n",
      "3\n",
      "c\n",
      "2\n",
      "a\n",
      "1\n",
      "r\n",
      "0\n",
      "t\n"
     ]
    }
   ],
   "source": [
    "x=input()\n",
    "for i in range(len(x)):\n",
    "    v=int(input())\n",
    "    print(x[v])"
   ]
  },
  {
   "cell_type": "code",
   "execution_count": 34,
   "id": "03a3194a",
   "metadata": {},
   "outputs": [
    {
     "name": "stdout",
     "output_type": "stream",
     "text": [
      "trac\n",
      "c\n",
      "a\n",
      "r\n",
      "t\n"
     ]
    }
   ],
   "source": [
    "x=input()\n",
    "v=x[::-1]\n",
    "for i in v:\n",
    "    print(i)"
   ]
  },
  {
   "cell_type": "code",
   "execution_count": 43,
   "id": "74a3d951",
   "metadata": {},
   "outputs": [
    {
     "name": "stdout",
     "output_type": "stream",
     "text": [
      "Muhsin\n",
      "M\n",
      "Mu\n",
      "Muh\n",
      "Muhs\n",
      "Muhsi\n",
      "Muhsin\n"
     ]
    }
   ],
   "source": [
    "x=input()\n",
    "v=\"\"\n",
    "for i in range(len(x)):\n",
    "    v=v+x[i]\n",
    "    print(v)"
   ]
  },
  {
   "cell_type": "code",
   "execution_count": 59,
   "id": "645597c9",
   "metadata": {},
   "outputs": [
    {
     "name": "stdout",
     "output_type": "stream",
     "text": [
      "5\n",
      "0 0 0 0 0 \n",
      "1 1 1 1 1 \n",
      "2 2 2 2 2 \n",
      "3 3 3 3 3 \n",
      "4 4 4 4 4 \n"
     ]
    }
   ],
   "source": [
    " x=int(input())\n",
    "for i in rgoindcange(0,x):\n",
    "    print((str(i)+\" \")*x)"
   ]
  },
  {
   "cell_type": "code",
   "execution_count": 66,
   "id": "0a4885f2",
   "metadata": {},
   "outputs": [
    {
     "name": "stdout",
     "output_type": "stream",
     "text": [
      "godinc\n",
      "5\n",
      "c\n",
      "1\n",
      "o\n",
      "4\n",
      "n\n",
      "2\n",
      "d\n",
      "3\n",
      "i\n",
      "0\n",
      "g\n"
     ]
    }
   ],
   "source": [
    "c=input()\n",
    "for i in range(len(c)):\n",
    "    v=int(input())\n",
    "    value=c[v]\n",
    "    print(value)"
   ]
  },
  {
   "cell_type": "code",
   "execution_count": 14,
   "id": "441ad6a9",
   "metadata": {},
   "outputs": [
    {
     "name": "stdout",
     "output_type": "stream",
     "text": [
      "3\n",
      "4\n",
      "3 4 5 6 \n",
      "3 4 5 6 \n",
      "3 4 5 6 \n",
      "3 4 5 6 \n"
     ]
    }
   ],
   "source": [
    "s=int(input())\n",
    "n=int(input())\n",
    "v=\"\"\n",
    "for i in range(n):\n",
    "    v=v+str(s+i)+\" \"\n",
    "for j in range(n):\n",
    "    print(v)"
   ]
  },
  {
   "cell_type": "code",
   "execution_count": 4,
   "id": "66478b18",
   "metadata": {},
   "outputs": [
    {
     "name": "stdout",
     "output_type": "stream",
     "text": [
      "1030800\n",
      "Zero number is Greater than three\n"
     ]
    }
   ],
   "source": [
    "x=int(input())\n",
    "count=0\n",
    "for i in str(x):\n",
    "    if int(i)==0:\n",
    "        count=count+1\n",
    "    else:\n",
    "        continue\n",
    "if count>3:\n",
    "    print(\"Zero number is Greater than three\")\n",
    "else:\n",
    "    print(\"zero number count is lesser than three\")"
   ]
  },
  {
   "cell_type": "code",
   "execution_count": 12,
   "id": "04c68c42",
   "metadata": {},
   "outputs": [
    {
     "name": "stdout",
     "output_type": "stream",
     "text": [
      "6785430\n",
      "count of even digit is greater than two\n"
     ]
    }
   ],
   "source": [
    "x=int(input())\n",
    "count=0\n",
    "for i in str(x):\n",
    "    if int(i)%2==0:\n",
    "        count=count+1\n",
    "if count>=2:\n",
    "    print(\"count of even digit is greater than two\")\n",
    "else:\n",
    "    print(\"count if even nuumber is lesser than two\")"
   ]
  },
  {
   "cell_type": "code",
   "execution_count": 4,
   "id": "dcb9b621",
   "metadata": {},
   "outputs": [
    {
     "name": "stdout",
     "output_type": "stream",
     "text": [
      "9\n",
      "Its  not prime number\n"
     ]
    }
   ],
   "source": [
    "v=int(input())\n",
    "count=0\n",
    "for i in range(1,v+1):\n",
    "    if v%i==0:\n",
    "        count=count+1\n",
    "if count==2:\n",
    "     print(\"Its prime number\")\n",
    "else:\n",
    "     print(\"Its  not prime number\")"
   ]
  },
  {
   "cell_type": "code",
   "execution_count": 27,
   "id": "21f1df4e",
   "metadata": {},
   "outputs": [
    {
     "name": "stdout",
     "output_type": "stream",
     "text": [
      "7\n",
      "* \n",
      "* * * \n",
      "* * * * * \n",
      "* * * * * * * \n"
     ]
    }
   ],
   "source": [
    "x=int(input())\n",
    "for i in range(1,x+1,2):\n",
    "    print(i*\"* \")"
   ]
  },
  {
   "cell_type": "code",
   "execution_count": 37,
   "id": "c329a0d8",
   "metadata": {},
   "outputs": [
    {
     "name": "stdout",
     "output_type": "stream",
     "text": [
      "3\n",
      "* * * \n",
      "* * \n",
      "* \n"
     ]
    }
   ],
   "source": [
    "x=int(input())\n",
    "for i in range(x,0,-1):\n",
    "    print(i*\"* \")"
   ]
  },
  {
   "cell_type": "code",
   "execution_count": 5,
   "id": "d35e065b",
   "metadata": {},
   "outputs": [
    {
     "name": "stdout",
     "output_type": "stream",
     "text": [
      "5\n",
      "+-----+\n",
      "|     |\n",
      "|     |\n",
      "|     |\n",
      "|     |\n",
      "|     |\n",
      "+-----+\n"
     ]
    }
   ],
   "source": [
    "n=int(input())\n",
    "for i in range(1,n+3):\n",
    "    if i==1 or i==n+2:\n",
    "        print(\"+\"+(\"-\"*n)+\"+\")\n",
    "    else:\n",
    "        print(\"|\"+\" \"*n+\"|\")"
   ]
  },
  {
   "cell_type": "code",
   "execution_count": 17,
   "id": "d2411861",
   "metadata": {},
   "outputs": [
    {
     "name": "stdout",
     "output_type": "stream",
     "text": [
      "TitleCase\n",
      "-title-case\n"
     ]
    }
   ],
   "source": [
    "x=input()\n",
    "count=\"\"\n",
    "for i in x:\n",
    "    if i==i.upper():\n",
    "        count=count+\"-\"+i\n",
    "    else:\n",
    "        count=count+i\n",
    "print(count.lower().rstrip(\"-\"))"
   ]
  },
  {
   "cell_type": "code",
   "execution_count": 20,
   "id": "12c1c226",
   "metadata": {},
   "outputs": [
    {
     "name": "stdout",
     "output_type": "stream",
     "text": [
      "5\n",
      "1 1 1 1 1 \n",
      "2 2 2 2 2 \n",
      "3 3 3 3 3 \n",
      "4 4 4 4 4 \n",
      "5 5 5 5 5 \n"
     ]
    }
   ],
   "source": [
    "x=int(input())\n",
    "for i in range(1,x+1):\n",
    "    print((str(i)+\" \")*5)"
   ]
  },
  {
   "cell_type": "code",
   "execution_count": 37,
   "id": "3fe18b51",
   "metadata": {},
   "outputs": [
    {
     "name": "stdout",
     "output_type": "stream",
     "text": [
      "2\n",
      "3\n",
      " 1 2 3 \n",
      " 1 2 3\n"
     ]
    }
   ],
   "source": [
    "v=int(input())\n",
    "w=int(input())\n",
    "m=\"\"\n",
    "n=\"\"\n",
    "for i in range(1,v+2):\n",
    "    m=m+\" \"+str(i)\n",
    "    n=n+\" \"+str(i)\n",
    "print(m,\"\\n\",n.strip())"
   ]
  },
  {
   "cell_type": "code",
   "execution_count": 39,
   "id": "db6e8bd1",
   "metadata": {},
   "outputs": [
    {
     "name": "stdout",
     "output_type": "stream",
     "text": [
      "2\n",
      "3\n",
      "1 2 3 \n",
      "1 2 3 \n"
     ]
    }
   ],
   "source": [
    "m=int(input())\n",
    "n=int(input())\n",
    "for i in range(1,m+1):\n",
    "    p=\"\"\n",
    "    for j in range(1,n+1):\n",
    "        p=p+str(j)+\" \"\n",
    "    print(p)"
   ]
  },
  {
   "cell_type": "code",
   "execution_count": 10,
   "id": "10d34a77",
   "metadata": {},
   "outputs": [
    {
     "name": "stdout",
     "output_type": "stream",
     "text": [
      "5\n",
      "-----* \n",
      "----* * \n",
      "---* * * \n",
      "--* * * * \n"
     ]
    }
   ],
   "source": [
    "x=int(input())\n",
    "k=x\n",
    "for i in range(1,x):\n",
    "    space=\"-\"*k\n",
    "    star=\"* \"*i\n",
    "    print(space+star)\n",
    "    k=k-1"
   ]
  },
  {
   "cell_type": "code",
   "execution_count": 12,
   "id": "75956dfa",
   "metadata": {},
   "outputs": [
    {
     "name": "stdout",
     "output_type": "stream",
     "text": [
      "5\n",
      "1 2 3 4 5 \n",
      "1 2 3 4 5 \n",
      "1 2 3 4 5 \n",
      "1 2 3 4 5 \n",
      "1 2 3 4 5 \n"
     ]
    }
   ],
   "source": [
    "x=int(input())\n",
    "for  i in range(1,x+1):\n",
    "    v=\"\"\n",
    "    for j in range(1,x+1):\n",
    "        v=v+str(j)+\" \"\n",
    "    print(v)"
   ]
  },
  {
   "cell_type": "code",
   "execution_count": 15,
   "id": "d0252b4a",
   "metadata": {},
   "outputs": [
    {
     "name": "stdout",
     "output_type": "stream",
     "text": [
      "5\n",
      "1 2 3 4 5 \n",
      "1 2 3 4 5 \n",
      "1 2 3 4 5 \n",
      "1 2 3 4 5 \n",
      "1 2 3 4 5 \n"
     ]
    }
   ],
   "source": [
    "x=int(input())\n",
    "pattern=\"\"\n",
    "for i in range(1,x+1):\n",
    "    pattern=pattern+(str(i)+\" \")\n",
    "for i in range(x):\n",
    "    print(pattern)"
   ]
  },
  {
   "cell_type": "code",
   "execution_count": 38,
   "id": "b6c8567b",
   "metadata": {},
   "outputs": [
    {
     "name": "stdout",
     "output_type": "stream",
     "text": [
      "5\n",
      "1 \n",
      "1 2 \n",
      "1 2 3 \n",
      "1 2 3 4 \n",
      "1 2 3 4 5 \n"
     ]
    }
   ],
   "source": [
    "x=int(input())\n",
    "for i in range(1,x+1):\n",
    "    p=\"\"\n",
    "for j in range(1,x+1):\n",
    "    p=p+(str(j)+\" \")\n",
    "    print(p)\n"
   ]
  },
  {
   "cell_type": "code",
   "execution_count": 41,
   "id": "5eb63343",
   "metadata": {},
   "outputs": [
    {
     "name": "stdout",
     "output_type": "stream",
     "text": [
      "5\n",
      "1 \n",
      "1 2 \n",
      "1 2 3 \n",
      "1 2 3 4 \n",
      "1 2 3 4 5 \n"
     ]
    }
   ],
   "source": [
    "x=int(input())\n",
    "for i in range(1,x+1):\n",
    "    p=\"\"\n",
    "    for j in range(1,i+1):\n",
    "        p=p+(str(j)+\" \")\n",
    "    print(p)"
   ]
  },
  {
   "cell_type": "code",
   "execution_count": 45,
   "id": "5bb8c15b",
   "metadata": {},
   "outputs": [
    {
     "name": "stdout",
     "output_type": "stream",
     "text": [
      "2\n",
      "3\n",
      "7 8 9 \n",
      "7 8 9 \n"
     ]
    }
   ],
   "source": [
    "x=int(input())\n",
    "y=int(input())\n",
    "for i in range(7,x+7):\n",
    "    v=\"\"\n",
    "    for j in range(7,y+7):\n",
    "        v=v+str(j)+\" \"\n",
    "    print(v)"
   ]
  },
  {
   "cell_type": "code",
   "execution_count": 53,
   "id": "a206ef4e",
   "metadata": {},
   "outputs": [
    {
     "name": "stdout",
     "output_type": "stream",
     "text": [
      "7\n",
      "5\n",
      "    7 \n",
      "   7 8 \n",
      "  7 8 9 \n",
      " 7 8 9 10 \n",
      "7 8 9 10 11 \n"
     ]
    }
   ],
   "source": [
    "x=int(input())\n",
    "y=int(input())\n",
    "for i in range(1,y+1):\n",
    "    space=\" \"*(y-i)\n",
    "    num=\"\"\n",
    "    for j in  range(x,i+x):\n",
    "        num=num+str(j)+\" \"\n",
    "    print(space+num)"
   ]
  },
  {
   "cell_type": "code",
   "execution_count": 62,
   "id": "4a6bd37f",
   "metadata": {},
   "outputs": [
    {
     "name": "stdout",
     "output_type": "stream",
     "text": [
      "5\n",
      "5 4 3 2 1 \n",
      "5 4 3 2 1 \n",
      "5 4 3 2 1 \n",
      "5 4 3 2 1 \n",
      "5 4 3 2 1 \n"
     ]
    }
   ],
   "source": [
    "x=int(input())\n",
    "for i in range(x):\n",
    "    v=\"\"\n",
    "    for j in range(x,0,-1):\n",
    "        v=v+str(j)+\" \"\n",
    "    print(v)"
   ]
  },
  {
   "cell_type": "code",
   "execution_count": 1,
   "id": "44c5fc0e",
   "metadata": {},
   "outputs": [
    {
     "name": "stdout",
     "output_type": "stream",
     "text": [
      "10\n",
      "                   1\n",
      "                 2 1\n",
      "               3 2 1\n",
      "             4 3 2 1\n",
      "           5 4 3 2 1\n",
      "         6 5 4 3 2 1\n",
      "       7 6 5 4 3 2 1\n",
      "     8 7 6 5 4 3 2 1\n",
      "   9 8 7 6 5 4 3 2 1\n",
      " 10 9 8 7 6 5 4 3 2 1\n"
     ]
    }
   ],
   "source": [
    " n=int(input())\n",
    "for i in range(1,n+1):\n",
    "    space=\"  \"*(n-i)\n",
    "    num=\"\"\n",
    "    for j in range(1,i+1):\n",
    "        num=\" \"+str(j)+num\n",
    "    print(space+num)"
   ]
  },
  {
   "cell_type": "code",
   "execution_count": 25,
   "id": "10c8c8e8",
   "metadata": {},
   "outputs": [
    {
     "name": "stdout",
     "output_type": "stream",
     "text": [
      "200\n",
      "1\n",
      "2\n",
      "3\n",
      "4\n",
      "5\n",
      "6\n",
      "7\n",
      "8\n",
      "9\n",
      "153\n"
     ]
    }
   ],
   "source": [
    "n=int(input())\n",
    "for i in range(1,n+1):\n",
    "    x=len(str(i))\n",
    "    count=0\n",
    "    for j in str(i):\n",
    "        count=count+int(j)**x\n",
    "    if count==i:\n",
    "        print(i)"
   ]
  },
  {
   "cell_type": "code",
   "execution_count": 8,
   "id": "710ef436",
   "metadata": {},
   "outputs": [
    {
     "name": "stdout",
     "output_type": "stream",
     "text": [
      "10\n",
      "2\n",
      "3\n",
      "5\n",
      "7\n"
     ]
    }
   ],
   "source": [
    "x=int(input())\n",
    "for i in range(2,x+1):\n",
    "    count=0\n",
    "    for j in range(2,i):\n",
    "        if i%j==0:\n",
    "            count=count+1\n",
    "    if count==0:\n",
    "        print(i)"
   ]
  },
  {
   "cell_type": "code",
   "execution_count": 26,
   "id": "7f141870",
   "metadata": {},
   "outputs": [
    {
     "name": "stdout",
     "output_type": "stream",
     "text": [
      "3\n",
      "15\n",
      "3 4 5 7 11 13 \n"
     ]
    }
   ],
   "source": [
    "m=int(input())\n",
    "n=int(input())\n",
    "v=\"\"\n",
    "for i in range(m,n+1):\n",
    "    count=0\n",
    "    for j in range(m,i):\n",
    "        if i%j==0:\n",
    "            count=count+1\n",
    "    if count==0:\n",
    "        v=v+str(i)+\" \"\n",
    "print(v)"
   ]
  },
  {
   "cell_type": "code",
   "execution_count": 25,
   "id": "8b60d565",
   "metadata": {},
   "outputs": [
    {
     "name": "stdout",
     "output_type": "stream",
     "text": [
      "2\n",
      "3\n",
      " 1 2 3\n",
      " 4 5 6\n"
     ]
    }
   ],
   "source": [
    "m=int(input())\n",
    "n=int(input())\n",
    "count=0\n",
    "num=0\n",
    "for i in range(1,m+1):\n",
    "    p=\"\"\n",
    "    v=\"\"\n",
    "    for j in range(1,n+1):\n",
    "        p=p+\" \"+str(j)\n",
    "        v=v+\" \"+str(j+3)\n",
    "print(p)\n",
    "print(v)\n",
    "      "
   ]
  },
  {
   "cell_type": "code",
   "execution_count": 24,
   "id": "6432e483",
   "metadata": {},
   "outputs": [
    {
     "name": "stdout",
     "output_type": "stream",
     "text": [
      "7\n",
      "5\n",
      " 1 2 3 4 5\n",
      " 6 7 8 9 10\n",
      " 11 12 13 14 15\n",
      " 16 17 18 19 20\n",
      " 21 22 23 24 25\n",
      " 26 27 28 29 30\n",
      " 31 32 33 34 35\n"
     ]
    }
   ],
   "source": [
    "# Another Method\n",
    "m=int(input())\n",
    "n=int(input())\n",
    "count=1\n",
    "for i in range(m):\n",
    "    v=\"\"\n",
    "    for j in range(n):\n",
    "        v=v+\" \"+str(count)\n",
    "        count=count+1\n",
    "    print(v)"
   ]
  },
  {
   "cell_type": "code",
   "execution_count": 10,
   "id": "06573de2",
   "metadata": {},
   "outputs": [
    {
     "name": "stdout",
     "output_type": "stream",
     "text": [
      "5\n",
      " 1 2 3 4 5\n",
      " 1 2 3 4\n",
      " 1 2 3\n",
      " 1 2\n",
      " 1\n"
     ]
    }
   ],
   "source": [
    "m=int(input())\n",
    "v=\"\"\n",
    "for i in range(m):\n",
    "    v=\"\"\n",
    "    for j in range(1,(m-i)+1):\n",
    "        v=v+\" \"+str(j)\n",
    "    print(v)"
   ]
  },
  {
   "cell_type": "code",
   "execution_count": 30,
   "id": "0e8ddf4a",
   "metadata": {},
   "outputs": [
    {
     "name": "stdout",
     "output_type": "stream",
     "text": [
      "5\n",
      " 1\n",
      " 2 3\n",
      " 4 5 6\n",
      " 7 8 9 10\n",
      " 11 12 13 14 15\n"
     ]
    }
   ],
   "source": [
    "n=int(input())\n",
    "p=1\n",
    "for i in range(1,n+1):\n",
    "    v=\"\"\n",
    "    for j in range(i):\n",
    "        v=v+\" \"+str(p)\n",
    "        p=p+1\n",
    "    print(v)"
   ]
  },
  {
   "cell_type": "code",
   "execution_count": 37,
   "id": "7bb6fe67",
   "metadata": {},
   "outputs": [
    {
     "name": "stdout",
     "output_type": "stream",
     "text": [
      "18\n",
      "40\n",
      "19\n",
      "23\n",
      "29\n",
      "31\n",
      "37\n"
     ]
    }
   ],
   "source": [
    "m=int(input())\n",
    "n=int(input())\n",
    "for i in range(m,n+1):\n",
    "    factor=0\n",
    "    for j in range(2,i):\n",
    "        if i%j==0:\n",
    "            factor=factor+1\n",
    "    if factor==0:\n",
    "        print(i)"
   ]
  }
 ],
 "metadata": {
  "kernelspec": {
   "display_name": "Python 3 (ipykernel)",
   "language": "python",
   "name": "python3"
  },
  "language_info": {
   "codemirror_mode": {
    "name": "ipython",
    "version": 3
   },
   "file_extension": ".py",
   "mimetype": "text/x-python",
   "name": "python",
   "nbconvert_exporter": "python",
   "pygments_lexer": "ipython3",
   "version": "3.11.4"
  }
 },
 "nbformat": 4,
 "nbformat_minor": 5
}
